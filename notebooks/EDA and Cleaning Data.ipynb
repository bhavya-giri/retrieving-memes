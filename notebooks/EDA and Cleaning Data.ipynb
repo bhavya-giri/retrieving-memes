{
 "cells": [
  {
   "cell_type": "code",
   "execution_count": 1,
   "id": "a3922829",
   "metadata": {},
   "outputs": [],
   "source": [
    "import pandas as pd"
   ]
  },
  {
   "cell_type": "code",
   "execution_count": 2,
   "id": "feba83ff",
   "metadata": {},
   "outputs": [],
   "source": [
    "df = pd.read_json(\"../data/raw_memes.json\")"
   ]
  },
  {
   "cell_type": "code",
   "execution_count": 5,
   "id": "54f912a3",
   "metadata": {},
   "outputs": [
    {
     "data": {
      "text/html": [
       "<div>\n",
       "<style scoped>\n",
       "    .dataframe tbody tr th:only-of-type {\n",
       "        vertical-align: middle;\n",
       "    }\n",
       "\n",
       "    .dataframe tbody tr th {\n",
       "        vertical-align: top;\n",
       "    }\n",
       "\n",
       "    .dataframe thead th {\n",
       "        text-align: right;\n",
       "    }\n",
       "</style>\n",
       "<table border=\"1\" class=\"dataframe\">\n",
       "  <thead>\n",
       "    <tr style=\"text-align: right;\">\n",
       "      <th></th>\n",
       "      <th>category</th>\n",
       "      <th>img_captions</th>\n",
       "      <th>meme_captions</th>\n",
       "      <th>title</th>\n",
       "      <th>url</th>\n",
       "      <th>img_fname</th>\n",
       "      <th>metaphors</th>\n",
       "      <th>post_id</th>\n",
       "    </tr>\n",
       "  </thead>\n",
       "  <tbody>\n",
       "    <tr>\n",
       "      <th>0</th>\n",
       "      <td>memes</td>\n",
       "      <td>[Person in Spider Man outfit gives a lecture o...</td>\n",
       "      <td>[Meme poster is frustrated about the format of...</td>\n",
       "      <td>For real though</td>\n",
       "      <td>https://i.redd.it/m16dhaqyply21.jpg</td>\n",
       "      <td>memes_bpet7l.png</td>\n",
       "      <td>[{'metaphor': 'Spider Man outfit', 'meaning': ...</td>\n",
       "      <td>bpet7l</td>\n",
       "    </tr>\n",
       "    <tr>\n",
       "      <th>1</th>\n",
       "      <td>memes</td>\n",
       "      <td>[Two dogs carry a white flag, Identical chubby...</td>\n",
       "      <td>[Meme poster is saying that searching Google p...</td>\n",
       "      <td>And that's a fact</td>\n",
       "      <td>https://i.redd.it/z9oh7ligb0i31.jpg</td>\n",
       "      <td>memes_ctxvmu.png</td>\n",
       "      <td>[{'metaphor': 'Two dogs', 'meaning': 'Meme pos...</td>\n",
       "      <td>ctxvmu</td>\n",
       "    </tr>\n",
       "    <tr>\n",
       "      <th>2</th>\n",
       "      <td>memes</td>\n",
       "      <td>[man is very dissatisfied with what he sees, Q...</td>\n",
       "      <td>[Meme poster is feeling sad.]</td>\n",
       "      <td>It was horrible</td>\n",
       "      <td>https://i.redd.it/yves3izsbsj31.jpg</td>\n",
       "      <td>memes_cxvuqd.png</td>\n",
       "      <td>[{'metaphor': 'man', 'meaning': 'Meme poster'}...</td>\n",
       "      <td>cxvuqd</td>\n",
       "    </tr>\n",
       "    <tr>\n",
       "      <th>3</th>\n",
       "      <td>memes</td>\n",
       "      <td>[A man that is crying and a man that is laughi...</td>\n",
       "      <td>[Meme poster is saying that Reddit is more fun...</td>\n",
       "      <td>This is why Reddit is better</td>\n",
       "      <td>https://i.redd.it/y594n8exi6k31.jpg</td>\n",
       "      <td>memes_cyop7a.png</td>\n",
       "      <td>[{'metaphor': 'A man', 'meaning': 'Meme poster...</td>\n",
       "      <td>cyop7a</td>\n",
       "    </tr>\n",
       "    <tr>\n",
       "      <th>4</th>\n",
       "      <td>memes</td>\n",
       "      <td>[a cop is chasing a thief with a shopping cart...</td>\n",
       "      <td>[Meme poster is making fun of the Area 51 raid.]</td>\n",
       "      <td>The Area 51 raid is still happening right?</td>\n",
       "      <td>https://i.redd.it/4hrn18t4lck31.jpg</td>\n",
       "      <td>memes_cz2i20.png</td>\n",
       "      <td>[{'metaphor': 'a cop', 'meaning': 'Meme poster...</td>\n",
       "      <td>cz2i20</td>\n",
       "    </tr>\n",
       "  </tbody>\n",
       "</table>\n",
       "</div>"
      ],
      "text/plain": [
       "  category                                       img_captions   \n",
       "0    memes  [Person in Spider Man outfit gives a lecture o...  \\\n",
       "1    memes  [Two dogs carry a white flag, Identical chubby...   \n",
       "2    memes  [man is very dissatisfied with what he sees, Q...   \n",
       "3    memes  [A man that is crying and a man that is laughi...   \n",
       "4    memes  [a cop is chasing a thief with a shopping cart...   \n",
       "\n",
       "                                       meme_captions   \n",
       "0  [Meme poster is frustrated about the format of...  \\\n",
       "1  [Meme poster is saying that searching Google p...   \n",
       "2                      [Meme poster is feeling sad.]   \n",
       "3  [Meme poster is saying that Reddit is more fun...   \n",
       "4   [Meme poster is making fun of the Area 51 raid.]   \n",
       "\n",
       "                                        title   \n",
       "0                             For real though  \\\n",
       "1                           And that's a fact   \n",
       "2                             It was horrible   \n",
       "3                This is why Reddit is better   \n",
       "4  The Area 51 raid is still happening right?   \n",
       "\n",
       "                                   url         img_fname   \n",
       "0  https://i.redd.it/m16dhaqyply21.jpg  memes_bpet7l.png  \\\n",
       "1  https://i.redd.it/z9oh7ligb0i31.jpg  memes_ctxvmu.png   \n",
       "2  https://i.redd.it/yves3izsbsj31.jpg  memes_cxvuqd.png   \n",
       "3  https://i.redd.it/y594n8exi6k31.jpg  memes_cyop7a.png   \n",
       "4  https://i.redd.it/4hrn18t4lck31.jpg  memes_cz2i20.png   \n",
       "\n",
       "                                           metaphors post_id  \n",
       "0  [{'metaphor': 'Spider Man outfit', 'meaning': ...  bpet7l  \n",
       "1  [{'metaphor': 'Two dogs', 'meaning': 'Meme pos...  ctxvmu  \n",
       "2  [{'metaphor': 'man', 'meaning': 'Meme poster'}...  cxvuqd  \n",
       "3  [{'metaphor': 'A man', 'meaning': 'Meme poster...  cyop7a  \n",
       "4  [{'metaphor': 'a cop', 'meaning': 'Meme poster...  cz2i20  "
      ]
     },
     "execution_count": 5,
     "metadata": {},
     "output_type": "execute_result"
    }
   ],
   "source": [
    "df.head()"
   ]
  },
  {
   "cell_type": "code",
   "execution_count": 34,
   "id": "a454e585",
   "metadata": {},
   "outputs": [
    {
     "name": "stdout",
     "output_type": "stream",
     "text": [
      "<class 'pandas.core.frame.DataFrame'>\n",
      "RangeIndex: 5823 entries, 0 to 5822\n",
      "Data columns (total 10 columns):\n",
      " #   Column             Non-Null Count  Dtype \n",
      "---  ------             --------------  ----- \n",
      " 0   category           5823 non-null   object\n",
      " 1   img_captions       5823 non-null   object\n",
      " 2   meme_captions      5823 non-null   object\n",
      " 3   title              5818 non-null   object\n",
      " 4   url                5823 non-null   object\n",
      " 5   img_fname          5823 non-null   object\n",
      " 6   metaphors          5822 non-null   object\n",
      " 7   post_id            5823 non-null   object\n",
      " 8   img_captions_str   5823 non-null   object\n",
      " 9   meme_captions_str  5823 non-null   object\n",
      "dtypes: object(10)\n",
      "memory usage: 455.0+ KB\n"
     ]
    }
   ],
   "source": [
    "df.info()"
   ]
  },
  {
   "cell_type": "code",
   "execution_count": 11,
   "id": "ddbdb09c",
   "metadata": {},
   "outputs": [
    {
     "data": {
      "text/plain": [
       "['Person in Spider Man outfit gives a lecture on stage.',\n",
       " 'Person dressed as spider man stands in front of crowd with notes']"
      ]
     },
     "execution_count": 11,
     "metadata": {},
     "output_type": "execute_result"
    }
   ],
   "source": [
    "df[\"img_captions\"][0]"
   ]
  },
  {
   "cell_type": "code",
   "execution_count": 13,
   "id": "f9a24449",
   "metadata": {},
   "outputs": [
    {
     "data": {
      "text/plain": [
       "['Meme poster is saying that Reddit is more fun than Instagram.',\n",
       " 'The person who wrote the post is saying people on Instagram are soft and reddit are funny.']"
      ]
     },
     "execution_count": 13,
     "metadata": {},
     "output_type": "execute_result"
    }
   ],
   "source": [
    "df[\"meme_captions\"][3]"
   ]
  },
  {
   "cell_type": "code",
   "execution_count": 14,
   "id": "9622e510",
   "metadata": {},
   "outputs": [
    {
     "data": {
      "text/plain": [
       "[{'metaphor': 'Spider Man outfit', 'meaning': 'Meme poster'},\n",
       " {'metaphor': 'a lecture', 'meaning': 'complaint'},\n",
       " {'metaphor': 'spider man', 'meaning': 'Meme poster'},\n",
       " {'metaphor': 'crowd', 'meaning': 'meme readers'}]"
      ]
     },
     "execution_count": 14,
     "metadata": {},
     "output_type": "execute_result"
    }
   ],
   "source": [
    "df[\"metaphors\"][0]"
   ]
  },
  {
   "cell_type": "code",
   "execution_count": 15,
   "id": "a2b6d0e5",
   "metadata": {},
   "outputs": [
    {
     "data": {
      "text/plain": [
       "5823"
      ]
     },
     "execution_count": 15,
     "metadata": {},
     "output_type": "execute_result"
    }
   ],
   "source": [
    "len(df)"
   ]
  },
  {
   "cell_type": "code",
   "execution_count": 17,
   "id": "bc16db09",
   "metadata": {},
   "outputs": [],
   "source": [
    "df[\"img_captions_str\"] = df['img_captions'].apply(lambda x: '; '.join(x))"
   ]
  },
  {
   "cell_type": "code",
   "execution_count": 19,
   "id": "bb4a3a9d",
   "metadata": {},
   "outputs": [
    {
     "data": {
      "text/plain": [
       "'Person in Spider Man outfit gives a lecture on stage.; Person dressed as spider man stands in front of crowd with notes'"
      ]
     },
     "execution_count": 19,
     "metadata": {},
     "output_type": "execute_result"
    }
   ],
   "source": [
    "df[\"img_captions_str\"][0]"
   ]
  },
  {
   "cell_type": "code",
   "execution_count": 21,
   "id": "0ac8fe32",
   "metadata": {},
   "outputs": [],
   "source": [
    "df[\"meme_captions_str\"] = df['meme_captions'].apply(lambda x: '; '.join(x))"
   ]
  },
  {
   "cell_type": "code",
   "execution_count": 22,
   "id": "cc976a80",
   "metadata": {},
   "outputs": [
    {
     "data": {
      "text/plain": [
       "'Meme poster is saying that Reddit is more fun than Instagram.; The person who wrote the post is saying people on Instagram are soft and reddit are funny.'"
      ]
     },
     "execution_count": 22,
     "metadata": {},
     "output_type": "execute_result"
    }
   ],
   "source": [
    "df[\"meme_captions_str\"][3]"
   ]
  },
  {
   "cell_type": "code",
   "execution_count": 38,
   "id": "d94b868c",
   "metadata": {},
   "outputs": [],
   "source": [
    "df[\"metaphors_str\"] =  df['metaphors'].apply(lambda lst: '; '.join([f\"{item['metaphor']}: {item['meaning']}\" for item in lst]) if isinstance(lst, list) else '')"
   ]
  },
  {
   "cell_type": "code",
   "execution_count": 39,
   "id": "0a2f603e",
   "metadata": {},
   "outputs": [
    {
     "data": {
      "text/plain": [
       "'Spider Man outfit: Meme poster; a lecture: complaint; spider man: Meme poster; crowd: meme readers'"
      ]
     },
     "execution_count": 39,
     "metadata": {},
     "output_type": "execute_result"
    }
   ],
   "source": [
    "df[\"metaphors_str\"][0]"
   ]
  },
  {
   "cell_type": "code",
   "execution_count": 40,
   "id": "8eb399e0",
   "metadata": {},
   "outputs": [],
   "source": [
    "df.to_csv(\"../data/string_data.csv\")"
   ]
  },
  {
   "cell_type": "code",
   "execution_count": 43,
   "id": "96a57b9c",
   "metadata": {},
   "outputs": [
    {
     "data": {
      "text/html": [
       "<div>\n",
       "<style scoped>\n",
       "    .dataframe tbody tr th:only-of-type {\n",
       "        vertical-align: middle;\n",
       "    }\n",
       "\n",
       "    .dataframe tbody tr th {\n",
       "        vertical-align: top;\n",
       "    }\n",
       "\n",
       "    .dataframe thead th {\n",
       "        text-align: right;\n",
       "    }\n",
       "</style>\n",
       "<table border=\"1\" class=\"dataframe\">\n",
       "  <thead>\n",
       "    <tr style=\"text-align: right;\">\n",
       "      <th></th>\n",
       "      <th>category</th>\n",
       "      <th>img_captions</th>\n",
       "      <th>meme_captions</th>\n",
       "      <th>title</th>\n",
       "      <th>url</th>\n",
       "      <th>img_fname</th>\n",
       "      <th>metaphors</th>\n",
       "      <th>post_id</th>\n",
       "      <th>img_captions_str</th>\n",
       "      <th>meme_captions_str</th>\n",
       "      <th>metaphors_str</th>\n",
       "    </tr>\n",
       "  </thead>\n",
       "  <tbody>\n",
       "    <tr>\n",
       "      <th>0</th>\n",
       "      <td>memes</td>\n",
       "      <td>[Person in Spider Man outfit gives a lecture o...</td>\n",
       "      <td>[Meme poster is frustrated about the format of...</td>\n",
       "      <td>For real though</td>\n",
       "      <td>https://i.redd.it/m16dhaqyply21.jpg</td>\n",
       "      <td>memes_bpet7l.png</td>\n",
       "      <td>[{'metaphor': 'Spider Man outfit', 'meaning': ...</td>\n",
       "      <td>bpet7l</td>\n",
       "      <td>Person in Spider Man outfit gives a lecture on...</td>\n",
       "      <td>Meme poster is frustrated about the format of ...</td>\n",
       "      <td>Spider Man outfit: Meme poster; a lecture: com...</td>\n",
       "    </tr>\n",
       "    <tr>\n",
       "      <th>1</th>\n",
       "      <td>memes</td>\n",
       "      <td>[Two dogs carry a white flag, Identical chubby...</td>\n",
       "      <td>[Meme poster is saying that searching Google p...</td>\n",
       "      <td>And that's a fact</td>\n",
       "      <td>https://i.redd.it/z9oh7ligb0i31.jpg</td>\n",
       "      <td>memes_ctxvmu.png</td>\n",
       "      <td>[{'metaphor': 'Two dogs', 'meaning': 'Meme pos...</td>\n",
       "      <td>ctxvmu</td>\n",
       "      <td>Two dogs carry a white flag; Identical chubby ...</td>\n",
       "      <td>Meme poster is saying that searching Google pl...</td>\n",
       "      <td>Two dogs: Meme poster; a white flag: PSA; carr...</td>\n",
       "    </tr>\n",
       "    <tr>\n",
       "      <th>2</th>\n",
       "      <td>memes</td>\n",
       "      <td>[man is very dissatisfied with what he sees, Q...</td>\n",
       "      <td>[Meme poster is feeling sad.]</td>\n",
       "      <td>It was horrible</td>\n",
       "      <td>https://i.redd.it/yves3izsbsj31.jpg</td>\n",
       "      <td>memes_cxvuqd.png</td>\n",
       "      <td>[{'metaphor': 'man', 'meaning': 'Meme poster'}...</td>\n",
       "      <td>cxvuqd</td>\n",
       "      <td>man is very dissatisfied with what he sees; Qu...</td>\n",
       "      <td>Meme poster is feeling sad.</td>\n",
       "      <td>man: Meme poster; sees: expressing different r...</td>\n",
       "    </tr>\n",
       "    <tr>\n",
       "      <th>3</th>\n",
       "      <td>memes</td>\n",
       "      <td>[A man that is crying and a man that is laughi...</td>\n",
       "      <td>[Meme poster is saying that Reddit is more fun...</td>\n",
       "      <td>This is why Reddit is better</td>\n",
       "      <td>https://i.redd.it/y594n8exi6k31.jpg</td>\n",
       "      <td>memes_cyop7a.png</td>\n",
       "      <td>[{'metaphor': 'A man', 'meaning': 'Meme poster...</td>\n",
       "      <td>cyop7a</td>\n",
       "      <td>A man that is crying and a man that is laughin...</td>\n",
       "      <td>Meme poster is saying that Reddit is more fun ...</td>\n",
       "      <td>A man: Meme poster; a man: Meme poster; his go...</td>\n",
       "    </tr>\n",
       "    <tr>\n",
       "      <th>4</th>\n",
       "      <td>memes</td>\n",
       "      <td>[a cop is chasing a thief with a shopping cart...</td>\n",
       "      <td>[Meme poster is making fun of the Area 51 raid.]</td>\n",
       "      <td>The Area 51 raid is still happening right?</td>\n",
       "      <td>https://i.redd.it/4hrn18t4lck31.jpg</td>\n",
       "      <td>memes_cz2i20.png</td>\n",
       "      <td>[{'metaphor': 'a cop', 'meaning': 'Meme poster...</td>\n",
       "      <td>cz2i20</td>\n",
       "      <td>a cop is chasing a thief with a shopping cart;...</td>\n",
       "      <td>Meme poster is making fun of the Area 51 raid.</td>\n",
       "      <td>a cop: Meme poster; a thief: not being bothere...</td>\n",
       "    </tr>\n",
       "  </tbody>\n",
       "</table>\n",
       "</div>"
      ],
      "text/plain": [
       "  category                                       img_captions   \n",
       "0    memes  [Person in Spider Man outfit gives a lecture o...  \\\n",
       "1    memes  [Two dogs carry a white flag, Identical chubby...   \n",
       "2    memes  [man is very dissatisfied with what he sees, Q...   \n",
       "3    memes  [A man that is crying and a man that is laughi...   \n",
       "4    memes  [a cop is chasing a thief with a shopping cart...   \n",
       "\n",
       "                                       meme_captions   \n",
       "0  [Meme poster is frustrated about the format of...  \\\n",
       "1  [Meme poster is saying that searching Google p...   \n",
       "2                      [Meme poster is feeling sad.]   \n",
       "3  [Meme poster is saying that Reddit is more fun...   \n",
       "4   [Meme poster is making fun of the Area 51 raid.]   \n",
       "\n",
       "                                        title   \n",
       "0                             For real though  \\\n",
       "1                           And that's a fact   \n",
       "2                             It was horrible   \n",
       "3                This is why Reddit is better   \n",
       "4  The Area 51 raid is still happening right?   \n",
       "\n",
       "                                   url         img_fname   \n",
       "0  https://i.redd.it/m16dhaqyply21.jpg  memes_bpet7l.png  \\\n",
       "1  https://i.redd.it/z9oh7ligb0i31.jpg  memes_ctxvmu.png   \n",
       "2  https://i.redd.it/yves3izsbsj31.jpg  memes_cxvuqd.png   \n",
       "3  https://i.redd.it/y594n8exi6k31.jpg  memes_cyop7a.png   \n",
       "4  https://i.redd.it/4hrn18t4lck31.jpg  memes_cz2i20.png   \n",
       "\n",
       "                                           metaphors post_id   \n",
       "0  [{'metaphor': 'Spider Man outfit', 'meaning': ...  bpet7l  \\\n",
       "1  [{'metaphor': 'Two dogs', 'meaning': 'Meme pos...  ctxvmu   \n",
       "2  [{'metaphor': 'man', 'meaning': 'Meme poster'}...  cxvuqd   \n",
       "3  [{'metaphor': 'A man', 'meaning': 'Meme poster...  cyop7a   \n",
       "4  [{'metaphor': 'a cop', 'meaning': 'Meme poster...  cz2i20   \n",
       "\n",
       "                                    img_captions_str   \n",
       "0  Person in Spider Man outfit gives a lecture on...  \\\n",
       "1  Two dogs carry a white flag; Identical chubby ...   \n",
       "2  man is very dissatisfied with what he sees; Qu...   \n",
       "3  A man that is crying and a man that is laughin...   \n",
       "4  a cop is chasing a thief with a shopping cart;...   \n",
       "\n",
       "                                   meme_captions_str   \n",
       "0  Meme poster is frustrated about the format of ...  \\\n",
       "1  Meme poster is saying that searching Google pl...   \n",
       "2                        Meme poster is feeling sad.   \n",
       "3  Meme poster is saying that Reddit is more fun ...   \n",
       "4     Meme poster is making fun of the Area 51 raid.   \n",
       "\n",
       "                                       metaphors_str  \n",
       "0  Spider Man outfit: Meme poster; a lecture: com...  \n",
       "1  Two dogs: Meme poster; a white flag: PSA; carr...  \n",
       "2  man: Meme poster; sees: expressing different r...  \n",
       "3  A man: Meme poster; a man: Meme poster; his go...  \n",
       "4  a cop: Meme poster; a thief: not being bothere...  "
      ]
     },
     "execution_count": 43,
     "metadata": {},
     "output_type": "execute_result"
    }
   ],
   "source": [
    "df.head()"
   ]
  },
  {
   "cell_type": "code",
   "execution_count": 45,
   "id": "92d3790a",
   "metadata": {},
   "outputs": [],
   "source": [
    "columns = [\"title\",\"img_captions_str\",\"meme_captions_str\",\"metaphors_str\",\"url\"]\n",
    "nlp_df = df[columns]"
   ]
  },
  {
   "cell_type": "code",
   "execution_count": 46,
   "id": "45139834",
   "metadata": {},
   "outputs": [
    {
     "data": {
      "text/html": [
       "<div>\n",
       "<style scoped>\n",
       "    .dataframe tbody tr th:only-of-type {\n",
       "        vertical-align: middle;\n",
       "    }\n",
       "\n",
       "    .dataframe tbody tr th {\n",
       "        vertical-align: top;\n",
       "    }\n",
       "\n",
       "    .dataframe thead th {\n",
       "        text-align: right;\n",
       "    }\n",
       "</style>\n",
       "<table border=\"1\" class=\"dataframe\">\n",
       "  <thead>\n",
       "    <tr style=\"text-align: right;\">\n",
       "      <th></th>\n",
       "      <th>title</th>\n",
       "      <th>img_captions_str</th>\n",
       "      <th>meme_captions_str</th>\n",
       "      <th>metaphors_str</th>\n",
       "      <th>url</th>\n",
       "    </tr>\n",
       "  </thead>\n",
       "  <tbody>\n",
       "    <tr>\n",
       "      <th>0</th>\n",
       "      <td>For real though</td>\n",
       "      <td>Person in Spider Man outfit gives a lecture on...</td>\n",
       "      <td>Meme poster is frustrated about the format of ...</td>\n",
       "      <td>Spider Man outfit: Meme poster; a lecture: com...</td>\n",
       "      <td>https://i.redd.it/m16dhaqyply21.jpg</td>\n",
       "    </tr>\n",
       "    <tr>\n",
       "      <th>1</th>\n",
       "      <td>And that's a fact</td>\n",
       "      <td>Two dogs carry a white flag; Identical chubby ...</td>\n",
       "      <td>Meme poster is saying that searching Google pl...</td>\n",
       "      <td>Two dogs: Meme poster; a white flag: PSA; carr...</td>\n",
       "      <td>https://i.redd.it/z9oh7ligb0i31.jpg</td>\n",
       "    </tr>\n",
       "    <tr>\n",
       "      <th>2</th>\n",
       "      <td>It was horrible</td>\n",
       "      <td>man is very dissatisfied with what he sees; Qu...</td>\n",
       "      <td>Meme poster is feeling sad.</td>\n",
       "      <td>man: Meme poster; sees: expressing different r...</td>\n",
       "      <td>https://i.redd.it/yves3izsbsj31.jpg</td>\n",
       "    </tr>\n",
       "    <tr>\n",
       "      <th>3</th>\n",
       "      <td>This is why Reddit is better</td>\n",
       "      <td>A man that is crying and a man that is laughin...</td>\n",
       "      <td>Meme poster is saying that Reddit is more fun ...</td>\n",
       "      <td>A man: Meme poster; a man: Meme poster; his go...</td>\n",
       "      <td>https://i.redd.it/y594n8exi6k31.jpg</td>\n",
       "    </tr>\n",
       "    <tr>\n",
       "      <th>4</th>\n",
       "      <td>The Area 51 raid is still happening right?</td>\n",
       "      <td>a cop is chasing a thief with a shopping cart;...</td>\n",
       "      <td>Meme poster is making fun of the Area 51 raid.</td>\n",
       "      <td>a cop: Meme poster; a thief: not being bothere...</td>\n",
       "      <td>https://i.redd.it/4hrn18t4lck31.jpg</td>\n",
       "    </tr>\n",
       "  </tbody>\n",
       "</table>\n",
       "</div>"
      ],
      "text/plain": [
       "                                        title   \n",
       "0                             For real though  \\\n",
       "1                           And that's a fact   \n",
       "2                             It was horrible   \n",
       "3                This is why Reddit is better   \n",
       "4  The Area 51 raid is still happening right?   \n",
       "\n",
       "                                    img_captions_str   \n",
       "0  Person in Spider Man outfit gives a lecture on...  \\\n",
       "1  Two dogs carry a white flag; Identical chubby ...   \n",
       "2  man is very dissatisfied with what he sees; Qu...   \n",
       "3  A man that is crying and a man that is laughin...   \n",
       "4  a cop is chasing a thief with a shopping cart;...   \n",
       "\n",
       "                                   meme_captions_str   \n",
       "0  Meme poster is frustrated about the format of ...  \\\n",
       "1  Meme poster is saying that searching Google pl...   \n",
       "2                        Meme poster is feeling sad.   \n",
       "3  Meme poster is saying that Reddit is more fun ...   \n",
       "4     Meme poster is making fun of the Area 51 raid.   \n",
       "\n",
       "                                       metaphors_str   \n",
       "0  Spider Man outfit: Meme poster; a lecture: com...  \\\n",
       "1  Two dogs: Meme poster; a white flag: PSA; carr...   \n",
       "2  man: Meme poster; sees: expressing different r...   \n",
       "3  A man: Meme poster; a man: Meme poster; his go...   \n",
       "4  a cop: Meme poster; a thief: not being bothere...   \n",
       "\n",
       "                                   url  \n",
       "0  https://i.redd.it/m16dhaqyply21.jpg  \n",
       "1  https://i.redd.it/z9oh7ligb0i31.jpg  \n",
       "2  https://i.redd.it/yves3izsbsj31.jpg  \n",
       "3  https://i.redd.it/y594n8exi6k31.jpg  \n",
       "4  https://i.redd.it/4hrn18t4lck31.jpg  "
      ]
     },
     "execution_count": 46,
     "metadata": {},
     "output_type": "execute_result"
    }
   ],
   "source": [
    "nlp_df.head()"
   ]
  },
  {
   "cell_type": "code",
   "execution_count": 47,
   "id": "917f0d32",
   "metadata": {},
   "outputs": [],
   "source": [
    "nlp_df.to_csv(\"../data/required_cols.csv\")"
   ]
  },
  {
   "cell_type": "code",
   "execution_count": 48,
   "id": "16d09188",
   "metadata": {},
   "outputs": [
    {
     "name": "stderr",
     "output_type": "stream",
     "text": [
      "/var/folders/zz/1b7n020s2xv0_jv9jj4sdblr0000gn/T/ipykernel_12287/1864942089.py:1: SettingWithCopyWarning: \n",
      "A value is trying to be set on a copy of a slice from a DataFrame.\n",
      "Try using .loc[row_indexer,col_indexer] = value instead\n",
      "\n",
      "See the caveats in the documentation: https://pandas.pydata.org/pandas-docs/stable/user_guide/indexing.html#returning-a-view-versus-a-copy\n",
      "  nlp_df[\"input\"] = \"TITLE: \" + nlp_df[\"title\"] + \"; ICAPTIONS: \" + nlp_df[\"img_captions_str\"] + \"; MCAPTIONS: \" + nlp_df[\"meme_captions_str\"] + \"; METAPHORS: \" + nlp_df[\"metaphors_str\"]\n"
     ]
    }
   ],
   "source": [
    "nlp_df[\"input\"] = \"TITLE: \" + nlp_df[\"title\"] + \"; ICAPTIONS: \" + nlp_df[\"img_captions_str\"] + \"; MCAPTIONS: \" + nlp_df[\"meme_captions_str\"] + \"; METAPHORS: \" + nlp_df[\"metaphors_str\"]"
   ]
  },
  {
   "cell_type": "code",
   "execution_count": 51,
   "id": "639e0fd8",
   "metadata": {},
   "outputs": [
    {
     "data": {
      "text/plain": [
       "0    TITLE: For real though; ICAPTIONS: Person in S...\n",
       "1    TITLE: And that's a fact; ICAPTIONS: Two dogs ...\n",
       "2    TITLE: It was horrible; ICAPTIONS: man is very...\n",
       "3    TITLE: This is why Reddit is better; ICAPTIONS...\n",
       "4    TITLE: The Area 51 raid is still happening rig...\n",
       "Name: input, dtype: object"
      ]
     },
     "execution_count": 51,
     "metadata": {},
     "output_type": "execute_result"
    }
   ],
   "source": [
    "nlp_df[\"input\"].head()"
   ]
  },
  {
   "cell_type": "code",
   "execution_count": 52,
   "id": "a49e6f9e",
   "metadata": {},
   "outputs": [],
   "source": [
    "pd.set_option('display.max_colwidth', None)"
   ]
  },
  {
   "cell_type": "code",
   "execution_count": 53,
   "id": "736c64b6",
   "metadata": {},
   "outputs": [
    {
     "data": {
      "text/plain": [
       "'TITLE: For real though; ICAPTIONS: Person in Spider Man outfit gives a lecture on stage.; Person dressed as spider man stands in front of crowd with notes; MCAPTIONS: Meme poster is frustrated about the format of the website and is making a suggestion for improvement.; METAPHORS: Spider Man outfit: Meme poster; a lecture: complaint; spider man: Meme poster; crowd: meme readers'"
      ]
     },
     "execution_count": 53,
     "metadata": {},
     "output_type": "execute_result"
    }
   ],
   "source": [
    "nlp_df[\"input\"][0]"
   ]
  },
  {
   "cell_type": "code",
   "execution_count": 54,
   "id": "84d99dd6",
   "metadata": {},
   "outputs": [],
   "source": [
    "nlp_df.to_csv(\"../data/input.csv\")"
   ]
  },
  {
   "cell_type": "code",
   "execution_count": 57,
   "id": "f4ab35a5",
   "metadata": {},
   "outputs": [
    {
     "data": {
      "text/plain": [
       "1098.0"
      ]
     },
     "execution_count": 57,
     "metadata": {},
     "output_type": "execute_result"
    }
   ],
   "source": [
    "max(nlp_df['input'].str.len())"
   ]
  },
  {
   "cell_type": "code",
   "execution_count": null,
   "id": "3cbd380a",
   "metadata": {},
   "outputs": [],
   "source": []
  }
 ],
 "metadata": {
  "kernelspec": {
   "display_name": "Python 3 (ipykernel)",
   "language": "python",
   "name": "python3"
  },
  "language_info": {
   "codemirror_mode": {
    "name": "ipython",
    "version": 3
   },
   "file_extension": ".py",
   "mimetype": "text/x-python",
   "name": "python",
   "nbconvert_exporter": "python",
   "pygments_lexer": "ipython3",
   "version": "3.10.10"
  }
 },
 "nbformat": 4,
 "nbformat_minor": 5
}
