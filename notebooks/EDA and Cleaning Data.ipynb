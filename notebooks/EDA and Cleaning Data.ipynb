{
 "cells": [
  {
   "cell_type": "code",
   "execution_count": 44,
   "id": "2cdddc4e",
   "metadata": {},
   "outputs": [],
   "source": [
    "import pandas as pd"
   ]
  },
  {
   "cell_type": "code",
   "execution_count": 45,
   "id": "55f4eadb",
   "metadata": {},
   "outputs": [],
   "source": [
    "df = pd.read_json(\"../data/raw_memes.json\")"
   ]
  },
  {
   "cell_type": "code",
   "execution_count": 46,
   "id": "e4700c10",
   "metadata": {},
   "outputs": [
    {
     "data": {
      "text/html": [
       "<div>\n",
       "<style scoped>\n",
       "    .dataframe tbody tr th:only-of-type {\n",
       "        vertical-align: middle;\n",
       "    }\n",
       "\n",
       "    .dataframe tbody tr th {\n",
       "        vertical-align: top;\n",
       "    }\n",
       "\n",
       "    .dataframe thead th {\n",
       "        text-align: right;\n",
       "    }\n",
       "</style>\n",
       "<table border=\"1\" class=\"dataframe\">\n",
       "  <thead>\n",
       "    <tr style=\"text-align: right;\">\n",
       "      <th></th>\n",
       "      <th>category</th>\n",
       "      <th>img_captions</th>\n",
       "      <th>meme_captions</th>\n",
       "      <th>title</th>\n",
       "      <th>url</th>\n",
       "      <th>img_fname</th>\n",
       "      <th>metaphors</th>\n",
       "      <th>post_id</th>\n",
       "    </tr>\n",
       "  </thead>\n",
       "  <tbody>\n",
       "    <tr>\n",
       "      <th>0</th>\n",
       "      <td>memes</td>\n",
       "      <td>[Person in Spider Man outfit gives a lecture on stage., Person dressed as spider man stands in front of crowd with notes]</td>\n",
       "      <td>[Meme poster is frustrated about the format of the website and is making a suggestion for improvement.]</td>\n",
       "      <td>For real though</td>\n",
       "      <td>https://i.redd.it/m16dhaqyply21.jpg</td>\n",
       "      <td>memes_bpet7l.png</td>\n",
       "      <td>[{'metaphor': 'Spider Man outfit', 'meaning': 'Meme poster'}, {'metaphor': 'a lecture', 'meaning': 'complaint'}, {'metaphor': 'spider man', 'meaning': 'Meme poster'}, {'metaphor': 'crowd', 'meaning': 'meme readers'}]</td>\n",
       "      <td>bpet7l</td>\n",
       "    </tr>\n",
       "    <tr>\n",
       "      <th>1</th>\n",
       "      <td>memes</td>\n",
       "      <td>[Two dogs carry a white flag, Identical chubby animated dogs carry a white banner.]</td>\n",
       "      <td>[Meme poster is saying that searching Google plus the term you want to search on reddit is better than searching reddit itself., Meme poster is telling everyone that Google can get you your answers faster than Reddit can.]</td>\n",
       "      <td>And that's a fact</td>\n",
       "      <td>https://i.redd.it/z9oh7ligb0i31.jpg</td>\n",
       "      <td>memes_ctxvmu.png</td>\n",
       "      <td>[{'metaphor': 'Two dogs', 'meaning': 'Meme poster'}, {'metaphor': 'a white flag', 'meaning': 'PSA'}, {'metaphor': 'carry', 'meaning': 'PSA'}, {'metaphor': 'Identical chubby animated dogs', 'meaning': 'PSA'}, {'metaphor': 'a white banner', 'meaning': 'PSA'}, {'metaphor': 'carry', 'meaning': 'PSA'}]</td>\n",
       "      <td>ctxvmu</td>\n",
       "    </tr>\n",
       "    <tr>\n",
       "      <th>2</th>\n",
       "      <td>memes</td>\n",
       "      <td>[man is very dissatisfied with what he sees, Quentin Tarantino is standing sad in different rooms.]</td>\n",
       "      <td>[Meme poster is feeling sad.]</td>\n",
       "      <td>It was horrible</td>\n",
       "      <td>https://i.redd.it/yves3izsbsj31.jpg</td>\n",
       "      <td>memes_cxvuqd.png</td>\n",
       "      <td>[{'metaphor': 'man', 'meaning': 'Meme poster'}, {'metaphor': 'sees', 'meaning': 'expressing different rooms'}, {'metaphor': 'Quentin Tarantino', 'meaning': 'expressing different rooms'}, {'metaphor': 'different rooms', 'meaning': 'expressing different rooms'}, {'metaphor': 'standing', 'meaning': 'expressing different rooms'}]</td>\n",
       "      <td>cxvuqd</td>\n",
       "    </tr>\n",
       "    <tr>\n",
       "      <th>3</th>\n",
       "      <td>memes</td>\n",
       "      <td>[A man that is crying and a man that is laughing while holding his golden glasses., A black man looking at camera tearing up, second image of man pulling down glasses with one hand and laughing ]</td>\n",
       "      <td>[Meme poster is saying that Reddit is more fun than Instagram., The person who wrote the post is saying people on Instagram are soft and reddit are funny.]</td>\n",
       "      <td>This is why Reddit is better</td>\n",
       "      <td>https://i.redd.it/y594n8exi6k31.jpg</td>\n",
       "      <td>memes_cyop7a.png</td>\n",
       "      <td>[{'metaphor': 'A man', 'meaning': 'Meme poster'}, {'metaphor': 'a man', 'meaning': 'Meme poster'}, {'metaphor': 'his golden glasses', 'meaning': 'Meme poster'}, {'metaphor': 'crying', 'meaning': 'Meme poster'}, {'metaphor': 'laughing', 'meaning': 'Meme poster'}, {'metaphor': 'A black man', 'meaning': 'Meme poster'}]</td>\n",
       "      <td>cyop7a</td>\n",
       "    </tr>\n",
       "    <tr>\n",
       "      <th>4</th>\n",
       "      <td>memes</td>\n",
       "      <td>[a cop is chasing a thief with a shopping cart, A policeman chasing a man with a shopping basket.]</td>\n",
       "      <td>[Meme poster is making fun of the Area 51 raid.]</td>\n",
       "      <td>The Area 51 raid is still happening right?</td>\n",
       "      <td>https://i.redd.it/4hrn18t4lck31.jpg</td>\n",
       "      <td>memes_cz2i20.png</td>\n",
       "      <td>[{'metaphor': 'a cop', 'meaning': 'Meme poster'}, {'metaphor': 'a thief', 'meaning': 'not being bothered with something'}, {'metaphor': 'a shopping cart', 'meaning': 'not being bothered with something'}, {'metaphor': 'chasing', 'meaning': 'not being bothered with something'}, {'metaphor': 'A policeman', 'meaning': 'Meme poster'}, {'metaphor': 'a man', 'meaning': 'not being bothered with something'}, {'metaphor': 'a shopping basket', 'meaning': 'not being bothered with something'}, {'metaphor': 'chasing', 'meaning': 'not being bothered with something'}]</td>\n",
       "      <td>cz2i20</td>\n",
       "    </tr>\n",
       "  </tbody>\n",
       "</table>\n",
       "</div>"
      ],
      "text/plain": [
       "  category   \n",
       "0    memes  \\\n",
       "1    memes   \n",
       "2    memes   \n",
       "3    memes   \n",
       "4    memes   \n",
       "\n",
       "                                                                                                                                                                                          img_captions   \n",
       "0                                                                            [Person in Spider Man outfit gives a lecture on stage., Person dressed as spider man stands in front of crowd with notes]  \\\n",
       "1                                                                                                                  [Two dogs carry a white flag, Identical chubby animated dogs carry a white banner.]   \n",
       "2                                                                                                  [man is very dissatisfied with what he sees, Quentin Tarantino is standing sad in different rooms.]   \n",
       "3  [A man that is crying and a man that is laughing while holding his golden glasses., A black man looking at camera tearing up, second image of man pulling down glasses with one hand and laughing ]   \n",
       "4                                                                                                   [a cop is chasing a thief with a shopping cart, A policeman chasing a man with a shopping basket.]   \n",
       "\n",
       "                                                                                                                                                                                                                    meme_captions   \n",
       "0                                                                                                                         [Meme poster is frustrated about the format of the website and is making a suggestion for improvement.]  \\\n",
       "1  [Meme poster is saying that searching Google plus the term you want to search on reddit is better than searching reddit itself., Meme poster is telling everyone that Google can get you your answers faster than Reddit can.]   \n",
       "2                                                                                                                                                                                                   [Meme poster is feeling sad.]   \n",
       "3                                                                     [Meme poster is saying that Reddit is more fun than Instagram., The person who wrote the post is saying people on Instagram are soft and reddit are funny.]   \n",
       "4                                                                                                                                                                                [Meme poster is making fun of the Area 51 raid.]   \n",
       "\n",
       "                                        title   \n",
       "0                             For real though  \\\n",
       "1                           And that's a fact   \n",
       "2                             It was horrible   \n",
       "3                This is why Reddit is better   \n",
       "4  The Area 51 raid is still happening right?   \n",
       "\n",
       "                                   url         img_fname   \n",
       "0  https://i.redd.it/m16dhaqyply21.jpg  memes_bpet7l.png  \\\n",
       "1  https://i.redd.it/z9oh7ligb0i31.jpg  memes_ctxvmu.png   \n",
       "2  https://i.redd.it/yves3izsbsj31.jpg  memes_cxvuqd.png   \n",
       "3  https://i.redd.it/y594n8exi6k31.jpg  memes_cyop7a.png   \n",
       "4  https://i.redd.it/4hrn18t4lck31.jpg  memes_cz2i20.png   \n",
       "\n",
       "                                                                                                                                                                                                                                                                                                                                                                                                                                                                                                                                                                        metaphors   \n",
       "0                                                                                                                                                                                                                                                                                                                                                        [{'metaphor': 'Spider Man outfit', 'meaning': 'Meme poster'}, {'metaphor': 'a lecture', 'meaning': 'complaint'}, {'metaphor': 'spider man', 'meaning': 'Meme poster'}, {'metaphor': 'crowd', 'meaning': 'meme readers'}]  \\\n",
       "1                                                                                                                                                                                                                                                                      [{'metaphor': 'Two dogs', 'meaning': 'Meme poster'}, {'metaphor': 'a white flag', 'meaning': 'PSA'}, {'metaphor': 'carry', 'meaning': 'PSA'}, {'metaphor': 'Identical chubby animated dogs', 'meaning': 'PSA'}, {'metaphor': 'a white banner', 'meaning': 'PSA'}, {'metaphor': 'carry', 'meaning': 'PSA'}]   \n",
       "2                                                                                                                                                                                                                                         [{'metaphor': 'man', 'meaning': 'Meme poster'}, {'metaphor': 'sees', 'meaning': 'expressing different rooms'}, {'metaphor': 'Quentin Tarantino', 'meaning': 'expressing different rooms'}, {'metaphor': 'different rooms', 'meaning': 'expressing different rooms'}, {'metaphor': 'standing', 'meaning': 'expressing different rooms'}]   \n",
       "3                                                                                                                                                                                                                                                   [{'metaphor': 'A man', 'meaning': 'Meme poster'}, {'metaphor': 'a man', 'meaning': 'Meme poster'}, {'metaphor': 'his golden glasses', 'meaning': 'Meme poster'}, {'metaphor': 'crying', 'meaning': 'Meme poster'}, {'metaphor': 'laughing', 'meaning': 'Meme poster'}, {'metaphor': 'A black man', 'meaning': 'Meme poster'}]   \n",
       "4  [{'metaphor': 'a cop', 'meaning': 'Meme poster'}, {'metaphor': 'a thief', 'meaning': 'not being bothered with something'}, {'metaphor': 'a shopping cart', 'meaning': 'not being bothered with something'}, {'metaphor': 'chasing', 'meaning': 'not being bothered with something'}, {'metaphor': 'A policeman', 'meaning': 'Meme poster'}, {'metaphor': 'a man', 'meaning': 'not being bothered with something'}, {'metaphor': 'a shopping basket', 'meaning': 'not being bothered with something'}, {'metaphor': 'chasing', 'meaning': 'not being bothered with something'}]   \n",
       "\n",
       "  post_id  \n",
       "0  bpet7l  \n",
       "1  ctxvmu  \n",
       "2  cxvuqd  \n",
       "3  cyop7a  \n",
       "4  cz2i20  "
      ]
     },
     "execution_count": 46,
     "metadata": {},
     "output_type": "execute_result"
    }
   ],
   "source": [
    "df.head()"
   ]
  },
  {
   "cell_type": "code",
   "execution_count": 47,
   "id": "a467eec5",
   "metadata": {},
   "outputs": [
    {
     "name": "stdout",
     "output_type": "stream",
     "text": [
      "<class 'pandas.core.frame.DataFrame'>\n",
      "RangeIndex: 5823 entries, 0 to 5822\n",
      "Data columns (total 8 columns):\n",
      " #   Column         Non-Null Count  Dtype \n",
      "---  ------         --------------  ----- \n",
      " 0   category       5823 non-null   object\n",
      " 1   img_captions   5823 non-null   object\n",
      " 2   meme_captions  5823 non-null   object\n",
      " 3   title          5818 non-null   object\n",
      " 4   url            5823 non-null   object\n",
      " 5   img_fname      5823 non-null   object\n",
      " 6   metaphors      5822 non-null   object\n",
      " 7   post_id        5823 non-null   object\n",
      "dtypes: object(8)\n",
      "memory usage: 364.1+ KB\n"
     ]
    }
   ],
   "source": [
    "df.info()"
   ]
  },
  {
   "cell_type": "code",
   "execution_count": 48,
   "id": "1f261e80",
   "metadata": {},
   "outputs": [
    {
     "data": {
      "text/plain": [
       "['Person in Spider Man outfit gives a lecture on stage.',\n",
       " 'Person dressed as spider man stands in front of crowd with notes']"
      ]
     },
     "execution_count": 48,
     "metadata": {},
     "output_type": "execute_result"
    }
   ],
   "source": [
    "df[\"img_captions\"][0]"
   ]
  },
  {
   "cell_type": "code",
   "execution_count": 49,
   "id": "61fce118",
   "metadata": {},
   "outputs": [
    {
     "data": {
      "text/plain": [
       "['Meme poster is saying that Reddit is more fun than Instagram.',\n",
       " 'The person who wrote the post is saying people on Instagram are soft and reddit are funny.']"
      ]
     },
     "execution_count": 49,
     "metadata": {},
     "output_type": "execute_result"
    }
   ],
   "source": [
    "df[\"meme_captions\"][3]"
   ]
  },
  {
   "cell_type": "code",
   "execution_count": 50,
   "id": "8fa70637",
   "metadata": {},
   "outputs": [
    {
     "data": {
      "text/plain": [
       "[{'metaphor': 'Spider Man outfit', 'meaning': 'Meme poster'},\n",
       " {'metaphor': 'a lecture', 'meaning': 'complaint'},\n",
       " {'metaphor': 'spider man', 'meaning': 'Meme poster'},\n",
       " {'metaphor': 'crowd', 'meaning': 'meme readers'}]"
      ]
     },
     "execution_count": 50,
     "metadata": {},
     "output_type": "execute_result"
    }
   ],
   "source": [
    "df[\"metaphors\"][0]"
   ]
  },
  {
   "cell_type": "code",
   "execution_count": 51,
   "id": "e92d8111",
   "metadata": {},
   "outputs": [
    {
     "data": {
      "text/plain": [
       "5823"
      ]
     },
     "execution_count": 51,
     "metadata": {},
     "output_type": "execute_result"
    }
   ],
   "source": [
    "len(df)"
   ]
  },
  {
   "cell_type": "code",
   "execution_count": 52,
   "id": "940aab35",
   "metadata": {},
   "outputs": [],
   "source": [
    "df[\"img_captions_str\"] = df['img_captions'].apply(lambda x: ', '.join(x))"
   ]
  },
  {
   "cell_type": "code",
   "execution_count": 53,
   "id": "c700d9cb",
   "metadata": {},
   "outputs": [
    {
     "data": {
      "text/plain": [
       "'Person in Spider Man outfit gives a lecture on stage., Person dressed as spider man stands in front of crowd with notes'"
      ]
     },
     "execution_count": 53,
     "metadata": {},
     "output_type": "execute_result"
    }
   ],
   "source": [
    "df[\"img_captions_str\"][0]"
   ]
  },
  {
   "cell_type": "code",
   "execution_count": 54,
   "id": "d3777317",
   "metadata": {},
   "outputs": [],
   "source": [
    "df[\"meme_captions_str\"] = df['meme_captions'].apply(lambda x: ', '.join(x))"
   ]
  },
  {
   "cell_type": "code",
   "execution_count": 55,
   "id": "048b8952",
   "metadata": {},
   "outputs": [
    {
     "data": {
      "text/plain": [
       "'Meme poster is saying that Reddit is more fun than Instagram., The person who wrote the post is saying people on Instagram are soft and reddit are funny.'"
      ]
     },
     "execution_count": 55,
     "metadata": {},
     "output_type": "execute_result"
    }
   ],
   "source": [
    "df[\"meme_captions_str\"][3]"
   ]
  },
  {
   "cell_type": "code",
   "execution_count": 56,
   "id": "1d6ba0da",
   "metadata": {},
   "outputs": [],
   "source": [
    "df[\"metaphors_str\"] =  df['metaphors'].apply(lambda lst: ', '.join([f\"{item['metaphor']}: {item['meaning']}\" for item in lst]) if isinstance(lst, list) else '')"
   ]
  },
  {
   "cell_type": "code",
   "execution_count": 57,
   "id": "2ce53204",
   "metadata": {},
   "outputs": [
    {
     "data": {
      "text/plain": [
       "'Spider Man outfit: Meme poster, a lecture: complaint, spider man: Meme poster, crowd: meme readers'"
      ]
     },
     "execution_count": 57,
     "metadata": {},
     "output_type": "execute_result"
    }
   ],
   "source": [
    "df[\"metaphors_str\"][0]"
   ]
  },
  {
   "cell_type": "code",
   "execution_count": 58,
   "id": "3e32ad9b",
   "metadata": {},
   "outputs": [],
   "source": [
    "df.to_csv(\"../data/string_data.csv\")"
   ]
  },
  {
   "cell_type": "code",
   "execution_count": 59,
   "id": "18e15139",
   "metadata": {},
   "outputs": [
    {
     "data": {
      "text/html": [
       "<div>\n",
       "<style scoped>\n",
       "    .dataframe tbody tr th:only-of-type {\n",
       "        vertical-align: middle;\n",
       "    }\n",
       "\n",
       "    .dataframe tbody tr th {\n",
       "        vertical-align: top;\n",
       "    }\n",
       "\n",
       "    .dataframe thead th {\n",
       "        text-align: right;\n",
       "    }\n",
       "</style>\n",
       "<table border=\"1\" class=\"dataframe\">\n",
       "  <thead>\n",
       "    <tr style=\"text-align: right;\">\n",
       "      <th></th>\n",
       "      <th>category</th>\n",
       "      <th>img_captions</th>\n",
       "      <th>meme_captions</th>\n",
       "      <th>title</th>\n",
       "      <th>url</th>\n",
       "      <th>img_fname</th>\n",
       "      <th>metaphors</th>\n",
       "      <th>post_id</th>\n",
       "      <th>img_captions_str</th>\n",
       "      <th>meme_captions_str</th>\n",
       "      <th>metaphors_str</th>\n",
       "    </tr>\n",
       "  </thead>\n",
       "  <tbody>\n",
       "    <tr>\n",
       "      <th>0</th>\n",
       "      <td>memes</td>\n",
       "      <td>[Person in Spider Man outfit gives a lecture on stage., Person dressed as spider man stands in front of crowd with notes]</td>\n",
       "      <td>[Meme poster is frustrated about the format of the website and is making a suggestion for improvement.]</td>\n",
       "      <td>For real though</td>\n",
       "      <td>https://i.redd.it/m16dhaqyply21.jpg</td>\n",
       "      <td>memes_bpet7l.png</td>\n",
       "      <td>[{'metaphor': 'Spider Man outfit', 'meaning': 'Meme poster'}, {'metaphor': 'a lecture', 'meaning': 'complaint'}, {'metaphor': 'spider man', 'meaning': 'Meme poster'}, {'metaphor': 'crowd', 'meaning': 'meme readers'}]</td>\n",
       "      <td>bpet7l</td>\n",
       "      <td>Person in Spider Man outfit gives a lecture on stage., Person dressed as spider man stands in front of crowd with notes</td>\n",
       "      <td>Meme poster is frustrated about the format of the website and is making a suggestion for improvement.</td>\n",
       "      <td>Spider Man outfit: Meme poster, a lecture: complaint, spider man: Meme poster, crowd: meme readers</td>\n",
       "    </tr>\n",
       "    <tr>\n",
       "      <th>1</th>\n",
       "      <td>memes</td>\n",
       "      <td>[Two dogs carry a white flag, Identical chubby animated dogs carry a white banner.]</td>\n",
       "      <td>[Meme poster is saying that searching Google plus the term you want to search on reddit is better than searching reddit itself., Meme poster is telling everyone that Google can get you your answers faster than Reddit can.]</td>\n",
       "      <td>And that's a fact</td>\n",
       "      <td>https://i.redd.it/z9oh7ligb0i31.jpg</td>\n",
       "      <td>memes_ctxvmu.png</td>\n",
       "      <td>[{'metaphor': 'Two dogs', 'meaning': 'Meme poster'}, {'metaphor': 'a white flag', 'meaning': 'PSA'}, {'metaphor': 'carry', 'meaning': 'PSA'}, {'metaphor': 'Identical chubby animated dogs', 'meaning': 'PSA'}, {'metaphor': 'a white banner', 'meaning': 'PSA'}, {'metaphor': 'carry', 'meaning': 'PSA'}]</td>\n",
       "      <td>ctxvmu</td>\n",
       "      <td>Two dogs carry a white flag, Identical chubby animated dogs carry a white banner.</td>\n",
       "      <td>Meme poster is saying that searching Google plus the term you want to search on reddit is better than searching reddit itself., Meme poster is telling everyone that Google can get you your answers faster than Reddit can.</td>\n",
       "      <td>Two dogs: Meme poster, a white flag: PSA, carry: PSA, Identical chubby animated dogs: PSA, a white banner: PSA, carry: PSA</td>\n",
       "    </tr>\n",
       "    <tr>\n",
       "      <th>2</th>\n",
       "      <td>memes</td>\n",
       "      <td>[man is very dissatisfied with what he sees, Quentin Tarantino is standing sad in different rooms.]</td>\n",
       "      <td>[Meme poster is feeling sad.]</td>\n",
       "      <td>It was horrible</td>\n",
       "      <td>https://i.redd.it/yves3izsbsj31.jpg</td>\n",
       "      <td>memes_cxvuqd.png</td>\n",
       "      <td>[{'metaphor': 'man', 'meaning': 'Meme poster'}, {'metaphor': 'sees', 'meaning': 'expressing different rooms'}, {'metaphor': 'Quentin Tarantino', 'meaning': 'expressing different rooms'}, {'metaphor': 'different rooms', 'meaning': 'expressing different rooms'}, {'metaphor': 'standing', 'meaning': 'expressing different rooms'}]</td>\n",
       "      <td>cxvuqd</td>\n",
       "      <td>man is very dissatisfied with what he sees, Quentin Tarantino is standing sad in different rooms.</td>\n",
       "      <td>Meme poster is feeling sad.</td>\n",
       "      <td>man: Meme poster, sees: expressing different rooms, Quentin Tarantino: expressing different rooms, different rooms: expressing different rooms, standing: expressing different rooms</td>\n",
       "    </tr>\n",
       "    <tr>\n",
       "      <th>3</th>\n",
       "      <td>memes</td>\n",
       "      <td>[A man that is crying and a man that is laughing while holding his golden glasses., A black man looking at camera tearing up, second image of man pulling down glasses with one hand and laughing ]</td>\n",
       "      <td>[Meme poster is saying that Reddit is more fun than Instagram., The person who wrote the post is saying people on Instagram are soft and reddit are funny.]</td>\n",
       "      <td>This is why Reddit is better</td>\n",
       "      <td>https://i.redd.it/y594n8exi6k31.jpg</td>\n",
       "      <td>memes_cyop7a.png</td>\n",
       "      <td>[{'metaphor': 'A man', 'meaning': 'Meme poster'}, {'metaphor': 'a man', 'meaning': 'Meme poster'}, {'metaphor': 'his golden glasses', 'meaning': 'Meme poster'}, {'metaphor': 'crying', 'meaning': 'Meme poster'}, {'metaphor': 'laughing', 'meaning': 'Meme poster'}, {'metaphor': 'A black man', 'meaning': 'Meme poster'}]</td>\n",
       "      <td>cyop7a</td>\n",
       "      <td>A man that is crying and a man that is laughing while holding his golden glasses., A black man looking at camera tearing up, second image of man pulling down glasses with one hand and laughing</td>\n",
       "      <td>Meme poster is saying that Reddit is more fun than Instagram., The person who wrote the post is saying people on Instagram are soft and reddit are funny.</td>\n",
       "      <td>A man: Meme poster, a man: Meme poster, his golden glasses: Meme poster, crying: Meme poster, laughing: Meme poster, A black man: Meme poster</td>\n",
       "    </tr>\n",
       "    <tr>\n",
       "      <th>4</th>\n",
       "      <td>memes</td>\n",
       "      <td>[a cop is chasing a thief with a shopping cart, A policeman chasing a man with a shopping basket.]</td>\n",
       "      <td>[Meme poster is making fun of the Area 51 raid.]</td>\n",
       "      <td>The Area 51 raid is still happening right?</td>\n",
       "      <td>https://i.redd.it/4hrn18t4lck31.jpg</td>\n",
       "      <td>memes_cz2i20.png</td>\n",
       "      <td>[{'metaphor': 'a cop', 'meaning': 'Meme poster'}, {'metaphor': 'a thief', 'meaning': 'not being bothered with something'}, {'metaphor': 'a shopping cart', 'meaning': 'not being bothered with something'}, {'metaphor': 'chasing', 'meaning': 'not being bothered with something'}, {'metaphor': 'A policeman', 'meaning': 'Meme poster'}, {'metaphor': 'a man', 'meaning': 'not being bothered with something'}, {'metaphor': 'a shopping basket', 'meaning': 'not being bothered with something'}, {'metaphor': 'chasing', 'meaning': 'not being bothered with something'}]</td>\n",
       "      <td>cz2i20</td>\n",
       "      <td>a cop is chasing a thief with a shopping cart, A policeman chasing a man with a shopping basket.</td>\n",
       "      <td>Meme poster is making fun of the Area 51 raid.</td>\n",
       "      <td>a cop: Meme poster, a thief: not being bothered with something, a shopping cart: not being bothered with something, chasing: not being bothered with something, A policeman: Meme poster, a man: not being bothered with something, a shopping basket: not being bothered with something, chasing: not being bothered with something</td>\n",
       "    </tr>\n",
       "  </tbody>\n",
       "</table>\n",
       "</div>"
      ],
      "text/plain": [
       "  category   \n",
       "0    memes  \\\n",
       "1    memes   \n",
       "2    memes   \n",
       "3    memes   \n",
       "4    memes   \n",
       "\n",
       "                                                                                                                                                                                          img_captions   \n",
       "0                                                                            [Person in Spider Man outfit gives a lecture on stage., Person dressed as spider man stands in front of crowd with notes]  \\\n",
       "1                                                                                                                  [Two dogs carry a white flag, Identical chubby animated dogs carry a white banner.]   \n",
       "2                                                                                                  [man is very dissatisfied with what he sees, Quentin Tarantino is standing sad in different rooms.]   \n",
       "3  [A man that is crying and a man that is laughing while holding his golden glasses., A black man looking at camera tearing up, second image of man pulling down glasses with one hand and laughing ]   \n",
       "4                                                                                                   [a cop is chasing a thief with a shopping cart, A policeman chasing a man with a shopping basket.]   \n",
       "\n",
       "                                                                                                                                                                                                                    meme_captions   \n",
       "0                                                                                                                         [Meme poster is frustrated about the format of the website and is making a suggestion for improvement.]  \\\n",
       "1  [Meme poster is saying that searching Google plus the term you want to search on reddit is better than searching reddit itself., Meme poster is telling everyone that Google can get you your answers faster than Reddit can.]   \n",
       "2                                                                                                                                                                                                   [Meme poster is feeling sad.]   \n",
       "3                                                                     [Meme poster is saying that Reddit is more fun than Instagram., The person who wrote the post is saying people on Instagram are soft and reddit are funny.]   \n",
       "4                                                                                                                                                                                [Meme poster is making fun of the Area 51 raid.]   \n",
       "\n",
       "                                        title   \n",
       "0                             For real though  \\\n",
       "1                           And that's a fact   \n",
       "2                             It was horrible   \n",
       "3                This is why Reddit is better   \n",
       "4  The Area 51 raid is still happening right?   \n",
       "\n",
       "                                   url         img_fname   \n",
       "0  https://i.redd.it/m16dhaqyply21.jpg  memes_bpet7l.png  \\\n",
       "1  https://i.redd.it/z9oh7ligb0i31.jpg  memes_ctxvmu.png   \n",
       "2  https://i.redd.it/yves3izsbsj31.jpg  memes_cxvuqd.png   \n",
       "3  https://i.redd.it/y594n8exi6k31.jpg  memes_cyop7a.png   \n",
       "4  https://i.redd.it/4hrn18t4lck31.jpg  memes_cz2i20.png   \n",
       "\n",
       "                                                                                                                                                                                                                                                                                                                                                                                                                                                                                                                                                                        metaphors   \n",
       "0                                                                                                                                                                                                                                                                                                                                                        [{'metaphor': 'Spider Man outfit', 'meaning': 'Meme poster'}, {'metaphor': 'a lecture', 'meaning': 'complaint'}, {'metaphor': 'spider man', 'meaning': 'Meme poster'}, {'metaphor': 'crowd', 'meaning': 'meme readers'}]  \\\n",
       "1                                                                                                                                                                                                                                                                      [{'metaphor': 'Two dogs', 'meaning': 'Meme poster'}, {'metaphor': 'a white flag', 'meaning': 'PSA'}, {'metaphor': 'carry', 'meaning': 'PSA'}, {'metaphor': 'Identical chubby animated dogs', 'meaning': 'PSA'}, {'metaphor': 'a white banner', 'meaning': 'PSA'}, {'metaphor': 'carry', 'meaning': 'PSA'}]   \n",
       "2                                                                                                                                                                                                                                         [{'metaphor': 'man', 'meaning': 'Meme poster'}, {'metaphor': 'sees', 'meaning': 'expressing different rooms'}, {'metaphor': 'Quentin Tarantino', 'meaning': 'expressing different rooms'}, {'metaphor': 'different rooms', 'meaning': 'expressing different rooms'}, {'metaphor': 'standing', 'meaning': 'expressing different rooms'}]   \n",
       "3                                                                                                                                                                                                                                                   [{'metaphor': 'A man', 'meaning': 'Meme poster'}, {'metaphor': 'a man', 'meaning': 'Meme poster'}, {'metaphor': 'his golden glasses', 'meaning': 'Meme poster'}, {'metaphor': 'crying', 'meaning': 'Meme poster'}, {'metaphor': 'laughing', 'meaning': 'Meme poster'}, {'metaphor': 'A black man', 'meaning': 'Meme poster'}]   \n",
       "4  [{'metaphor': 'a cop', 'meaning': 'Meme poster'}, {'metaphor': 'a thief', 'meaning': 'not being bothered with something'}, {'metaphor': 'a shopping cart', 'meaning': 'not being bothered with something'}, {'metaphor': 'chasing', 'meaning': 'not being bothered with something'}, {'metaphor': 'A policeman', 'meaning': 'Meme poster'}, {'metaphor': 'a man', 'meaning': 'not being bothered with something'}, {'metaphor': 'a shopping basket', 'meaning': 'not being bothered with something'}, {'metaphor': 'chasing', 'meaning': 'not being bothered with something'}]   \n",
       "\n",
       "  post_id   \n",
       "0  bpet7l  \\\n",
       "1  ctxvmu   \n",
       "2  cxvuqd   \n",
       "3  cyop7a   \n",
       "4  cz2i20   \n",
       "\n",
       "                                                                                                                                                                                    img_captions_str   \n",
       "0                                                                            Person in Spider Man outfit gives a lecture on stage., Person dressed as spider man stands in front of crowd with notes  \\\n",
       "1                                                                                                                  Two dogs carry a white flag, Identical chubby animated dogs carry a white banner.   \n",
       "2                                                                                                  man is very dissatisfied with what he sees, Quentin Tarantino is standing sad in different rooms.   \n",
       "3  A man that is crying and a man that is laughing while holding his golden glasses., A black man looking at camera tearing up, second image of man pulling down glasses with one hand and laughing    \n",
       "4                                                                                                   a cop is chasing a thief with a shopping cart, A policeman chasing a man with a shopping basket.   \n",
       "\n",
       "                                                                                                                                                                                                              meme_captions_str   \n",
       "0                                                                                                                         Meme poster is frustrated about the format of the website and is making a suggestion for improvement.  \\\n",
       "1  Meme poster is saying that searching Google plus the term you want to search on reddit is better than searching reddit itself., Meme poster is telling everyone that Google can get you your answers faster than Reddit can.   \n",
       "2                                                                                                                                                                                                   Meme poster is feeling sad.   \n",
       "3                                                                     Meme poster is saying that Reddit is more fun than Instagram., The person who wrote the post is saying people on Instagram are soft and reddit are funny.   \n",
       "4                                                                                                                                                                                Meme poster is making fun of the Area 51 raid.   \n",
       "\n",
       "                                                                                                                                                                                                                                                                                                                          metaphors_str  \n",
       "0                                                                                                                                                                                                                                    Spider Man outfit: Meme poster, a lecture: complaint, spider man: Meme poster, crowd: meme readers  \n",
       "1                                                                                                                                                                                                            Two dogs: Meme poster, a white flag: PSA, carry: PSA, Identical chubby animated dogs: PSA, a white banner: PSA, carry: PSA  \n",
       "2                                                                                                                                                  man: Meme poster, sees: expressing different rooms, Quentin Tarantino: expressing different rooms, different rooms: expressing different rooms, standing: expressing different rooms  \n",
       "3                                                                                                                                                                                         A man: Meme poster, a man: Meme poster, his golden glasses: Meme poster, crying: Meme poster, laughing: Meme poster, A black man: Meme poster  \n",
       "4  a cop: Meme poster, a thief: not being bothered with something, a shopping cart: not being bothered with something, chasing: not being bothered with something, A policeman: Meme poster, a man: not being bothered with something, a shopping basket: not being bothered with something, chasing: not being bothered with something  "
      ]
     },
     "execution_count": 59,
     "metadata": {},
     "output_type": "execute_result"
    }
   ],
   "source": [
    "df.head()"
   ]
  },
  {
   "cell_type": "code",
   "execution_count": 60,
   "id": "0e6e84e7",
   "metadata": {},
   "outputs": [],
   "source": [
    "columns = [\"title\",\"img_captions_str\",\"meme_captions_str\",\"metaphors_str\",\"url\"]\n",
    "nlp_df = df[columns]"
   ]
  },
  {
   "cell_type": "code",
   "execution_count": 61,
   "id": "e08e8870",
   "metadata": {},
   "outputs": [
    {
     "data": {
      "text/html": [
       "<div>\n",
       "<style scoped>\n",
       "    .dataframe tbody tr th:only-of-type {\n",
       "        vertical-align: middle;\n",
       "    }\n",
       "\n",
       "    .dataframe tbody tr th {\n",
       "        vertical-align: top;\n",
       "    }\n",
       "\n",
       "    .dataframe thead th {\n",
       "        text-align: right;\n",
       "    }\n",
       "</style>\n",
       "<table border=\"1\" class=\"dataframe\">\n",
       "  <thead>\n",
       "    <tr style=\"text-align: right;\">\n",
       "      <th></th>\n",
       "      <th>title</th>\n",
       "      <th>img_captions_str</th>\n",
       "      <th>meme_captions_str</th>\n",
       "      <th>metaphors_str</th>\n",
       "      <th>url</th>\n",
       "    </tr>\n",
       "  </thead>\n",
       "  <tbody>\n",
       "    <tr>\n",
       "      <th>0</th>\n",
       "      <td>For real though</td>\n",
       "      <td>Person in Spider Man outfit gives a lecture on stage., Person dressed as spider man stands in front of crowd with notes</td>\n",
       "      <td>Meme poster is frustrated about the format of the website and is making a suggestion for improvement.</td>\n",
       "      <td>Spider Man outfit: Meme poster, a lecture: complaint, spider man: Meme poster, crowd: meme readers</td>\n",
       "      <td>https://i.redd.it/m16dhaqyply21.jpg</td>\n",
       "    </tr>\n",
       "    <tr>\n",
       "      <th>1</th>\n",
       "      <td>And that's a fact</td>\n",
       "      <td>Two dogs carry a white flag, Identical chubby animated dogs carry a white banner.</td>\n",
       "      <td>Meme poster is saying that searching Google plus the term you want to search on reddit is better than searching reddit itself., Meme poster is telling everyone that Google can get you your answers faster than Reddit can.</td>\n",
       "      <td>Two dogs: Meme poster, a white flag: PSA, carry: PSA, Identical chubby animated dogs: PSA, a white banner: PSA, carry: PSA</td>\n",
       "      <td>https://i.redd.it/z9oh7ligb0i31.jpg</td>\n",
       "    </tr>\n",
       "    <tr>\n",
       "      <th>2</th>\n",
       "      <td>It was horrible</td>\n",
       "      <td>man is very dissatisfied with what he sees, Quentin Tarantino is standing sad in different rooms.</td>\n",
       "      <td>Meme poster is feeling sad.</td>\n",
       "      <td>man: Meme poster, sees: expressing different rooms, Quentin Tarantino: expressing different rooms, different rooms: expressing different rooms, standing: expressing different rooms</td>\n",
       "      <td>https://i.redd.it/yves3izsbsj31.jpg</td>\n",
       "    </tr>\n",
       "    <tr>\n",
       "      <th>3</th>\n",
       "      <td>This is why Reddit is better</td>\n",
       "      <td>A man that is crying and a man that is laughing while holding his golden glasses., A black man looking at camera tearing up, second image of man pulling down glasses with one hand and laughing</td>\n",
       "      <td>Meme poster is saying that Reddit is more fun than Instagram., The person who wrote the post is saying people on Instagram are soft and reddit are funny.</td>\n",
       "      <td>A man: Meme poster, a man: Meme poster, his golden glasses: Meme poster, crying: Meme poster, laughing: Meme poster, A black man: Meme poster</td>\n",
       "      <td>https://i.redd.it/y594n8exi6k31.jpg</td>\n",
       "    </tr>\n",
       "    <tr>\n",
       "      <th>4</th>\n",
       "      <td>The Area 51 raid is still happening right?</td>\n",
       "      <td>a cop is chasing a thief with a shopping cart, A policeman chasing a man with a shopping basket.</td>\n",
       "      <td>Meme poster is making fun of the Area 51 raid.</td>\n",
       "      <td>a cop: Meme poster, a thief: not being bothered with something, a shopping cart: not being bothered with something, chasing: not being bothered with something, A policeman: Meme poster, a man: not being bothered with something, a shopping basket: not being bothered with something, chasing: not being bothered with something</td>\n",
       "      <td>https://i.redd.it/4hrn18t4lck31.jpg</td>\n",
       "    </tr>\n",
       "  </tbody>\n",
       "</table>\n",
       "</div>"
      ],
      "text/plain": [
       "                                        title   \n",
       "0                             For real though  \\\n",
       "1                           And that's a fact   \n",
       "2                             It was horrible   \n",
       "3                This is why Reddit is better   \n",
       "4  The Area 51 raid is still happening right?   \n",
       "\n",
       "                                                                                                                                                                                    img_captions_str   \n",
       "0                                                                            Person in Spider Man outfit gives a lecture on stage., Person dressed as spider man stands in front of crowd with notes  \\\n",
       "1                                                                                                                  Two dogs carry a white flag, Identical chubby animated dogs carry a white banner.   \n",
       "2                                                                                                  man is very dissatisfied with what he sees, Quentin Tarantino is standing sad in different rooms.   \n",
       "3  A man that is crying and a man that is laughing while holding his golden glasses., A black man looking at camera tearing up, second image of man pulling down glasses with one hand and laughing    \n",
       "4                                                                                                   a cop is chasing a thief with a shopping cart, A policeman chasing a man with a shopping basket.   \n",
       "\n",
       "                                                                                                                                                                                                              meme_captions_str   \n",
       "0                                                                                                                         Meme poster is frustrated about the format of the website and is making a suggestion for improvement.  \\\n",
       "1  Meme poster is saying that searching Google plus the term you want to search on reddit is better than searching reddit itself., Meme poster is telling everyone that Google can get you your answers faster than Reddit can.   \n",
       "2                                                                                                                                                                                                   Meme poster is feeling sad.   \n",
       "3                                                                     Meme poster is saying that Reddit is more fun than Instagram., The person who wrote the post is saying people on Instagram are soft and reddit are funny.   \n",
       "4                                                                                                                                                                                Meme poster is making fun of the Area 51 raid.   \n",
       "\n",
       "                                                                                                                                                                                                                                                                                                                          metaphors_str   \n",
       "0                                                                                                                                                                                                                                    Spider Man outfit: Meme poster, a lecture: complaint, spider man: Meme poster, crowd: meme readers  \\\n",
       "1                                                                                                                                                                                                            Two dogs: Meme poster, a white flag: PSA, carry: PSA, Identical chubby animated dogs: PSA, a white banner: PSA, carry: PSA   \n",
       "2                                                                                                                                                  man: Meme poster, sees: expressing different rooms, Quentin Tarantino: expressing different rooms, different rooms: expressing different rooms, standing: expressing different rooms   \n",
       "3                                                                                                                                                                                         A man: Meme poster, a man: Meme poster, his golden glasses: Meme poster, crying: Meme poster, laughing: Meme poster, A black man: Meme poster   \n",
       "4  a cop: Meme poster, a thief: not being bothered with something, a shopping cart: not being bothered with something, chasing: not being bothered with something, A policeman: Meme poster, a man: not being bothered with something, a shopping basket: not being bothered with something, chasing: not being bothered with something   \n",
       "\n",
       "                                   url  \n",
       "0  https://i.redd.it/m16dhaqyply21.jpg  \n",
       "1  https://i.redd.it/z9oh7ligb0i31.jpg  \n",
       "2  https://i.redd.it/yves3izsbsj31.jpg  \n",
       "3  https://i.redd.it/y594n8exi6k31.jpg  \n",
       "4  https://i.redd.it/4hrn18t4lck31.jpg  "
      ]
     },
     "execution_count": 61,
     "metadata": {},
     "output_type": "execute_result"
    }
   ],
   "source": [
    "nlp_df.head()"
   ]
  },
  {
   "cell_type": "code",
   "execution_count": 62,
   "id": "886ee382",
   "metadata": {},
   "outputs": [],
   "source": [
    "nlp_df.to_csv(\"../data/required_cols.csv\")"
   ]
  },
  {
   "cell_type": "code",
   "execution_count": 63,
   "id": "204cc2f0",
   "metadata": {},
   "outputs": [
    {
     "name": "stderr",
     "output_type": "stream",
     "text": [
      "/var/folders/zz/1b7n020s2xv0_jv9jj4sdblr0000gn/T/ipykernel_15231/1979508066.py:1: SettingWithCopyWarning: \n",
      "A value is trying to be set on a copy of a slice from a DataFrame.\n",
      "Try using .loc[row_indexer,col_indexer] = value instead\n",
      "\n",
      "See the caveats in the documentation: https://pandas.pydata.org/pandas-docs/stable/user_guide/indexing.html#returning-a-view-versus-a-copy\n",
      "  nlp_df[\"input\"] = \"TEXT: \" + nlp_df[\"title\"] + \"; \" + nlp_df[\"img_captions_str\"] + \"; \" + nlp_df[\"meme_captions_str\"] + \"; \" + nlp_df[\"metaphors_str\"]\n"
     ]
    }
   ],
   "source": [
    "nlp_df[\"input\"] = \"TEXT: \" + nlp_df[\"title\"] + \"; \" + nlp_df[\"img_captions_str\"] + \"; \" + nlp_df[\"meme_captions_str\"] + \"; \" + nlp_df[\"metaphors_str\"]"
   ]
  },
  {
   "cell_type": "code",
   "execution_count": 64,
   "id": "1a43586d",
   "metadata": {},
   "outputs": [
    {
     "data": {
      "text/plain": [
       "0                                                                                                                                                                                          TEXT: For real though; Person in Spider Man outfit gives a lecture on stage., Person dressed as spider man stands in front of crowd with notes; Meme poster is frustrated about the format of the website and is making a suggestion for improvement.; Spider Man outfit: Meme poster, a lecture: complaint, spider man: Meme poster, crowd: meme readers\n",
       "1                                                                               TEXT: And that's a fact; Two dogs carry a white flag, Identical chubby animated dogs carry a white banner.; Meme poster is saying that searching Google plus the term you want to search on reddit is better than searching reddit itself., Meme poster is telling everyone that Google can get you your answers faster than Reddit can.; Two dogs: Meme poster, a white flag: PSA, carry: PSA, Identical chubby animated dogs: PSA, a white banner: PSA, carry: PSA\n",
       "2                                                                                                                                                                                                        TEXT: It was horrible; man is very dissatisfied with what he sees, Quentin Tarantino is standing sad in different rooms.; Meme poster is feeling sad.; man: Meme poster, sees: expressing different rooms, Quentin Tarantino: expressing different rooms, different rooms: expressing different rooms, standing: expressing different rooms\n",
       "3    TEXT: This is why Reddit is better; A man that is crying and a man that is laughing while holding his golden glasses., A black man looking at camera tearing up, second image of man pulling down glasses with one hand and laughing ; Meme poster is saying that Reddit is more fun than Instagram., The person who wrote the post is saying people on Instagram are soft and reddit are funny.; A man: Meme poster, a man: Meme poster, his golden glasses: Meme poster, crying: Meme poster, laughing: Meme poster, A black man: Meme poster\n",
       "4           TEXT: The Area 51 raid is still happening right?; a cop is chasing a thief with a shopping cart, A policeman chasing a man with a shopping basket.; Meme poster is making fun of the Area 51 raid.; a cop: Meme poster, a thief: not being bothered with something, a shopping cart: not being bothered with something, chasing: not being bothered with something, A policeman: Meme poster, a man: not being bothered with something, a shopping basket: not being bothered with something, chasing: not being bothered with something\n",
       "Name: input, dtype: object"
      ]
     },
     "execution_count": 64,
     "metadata": {},
     "output_type": "execute_result"
    }
   ],
   "source": [
    "nlp_df[\"input\"].head()"
   ]
  },
  {
   "cell_type": "code",
   "execution_count": 65,
   "id": "2caaebe2",
   "metadata": {},
   "outputs": [],
   "source": [
    "pd.set_option('display.max_colwidth', None)"
   ]
  },
  {
   "cell_type": "code",
   "execution_count": 66,
   "id": "ffe68439",
   "metadata": {},
   "outputs": [
    {
     "data": {
      "text/plain": [
       "'TEXT: For real though; Person in Spider Man outfit gives a lecture on stage., Person dressed as spider man stands in front of crowd with notes; Meme poster is frustrated about the format of the website and is making a suggestion for improvement.; Spider Man outfit: Meme poster, a lecture: complaint, spider man: Meme poster, crowd: meme readers'"
      ]
     },
     "execution_count": 66,
     "metadata": {},
     "output_type": "execute_result"
    }
   ],
   "source": [
    "nlp_df[\"input\"][0]"
   ]
  },
  {
   "cell_type": "code",
   "execution_count": 67,
   "id": "3410548b",
   "metadata": {},
   "outputs": [],
   "source": [
    "nlp_df.to_csv(\"../data/input.csv\")"
   ]
  },
  {
   "cell_type": "code",
   "execution_count": 68,
   "id": "32cb3090",
   "metadata": {},
   "outputs": [
    {
     "data": {
      "text/plain": [
       "1064.0"
      ]
     },
     "execution_count": 68,
     "metadata": {},
     "output_type": "execute_result"
    }
   ],
   "source": [
    "max(nlp_df['input'].str.len())"
   ]
  },
  {
   "cell_type": "code",
   "execution_count": 69,
   "id": "52273234",
   "metadata": {},
   "outputs": [
    {
     "data": {
      "text/plain": [
       "<Axes: >"
      ]
     },
     "execution_count": 69,
     "metadata": {},
     "output_type": "execute_result"
    },
    {
     "data": {
      "image/png": "[encoded data removed]",
      "text/plain": [
       "<Figure size 640x480 with 1 Axes>"
      ]
     },
     "metadata": {},
     "output_type": "display_data"
    }
   ],
   "source": [
    "nlp_df[\"input\"].str.len().hist()"
   ]
  },
  {
   "cell_type": "code",
   "execution_count": 70,
   "id": "3c3dc82c",
   "metadata": {},
   "outputs": [
    {
     "data": {
      "text/plain": [
       "0       345.0\n",
       "1       452.0\n",
       "2       331.0\n",
       "3       527.0\n",
       "4       520.0\n",
       "        ...  \n",
       "5818    230.0\n",
       "5819    178.0\n",
       "5820    250.0\n",
       "5821    224.0\n",
       "5822    227.0\n",
       "Name: input, Length: 5823, dtype: float64"
      ]
     },
     "execution_count": 70,
     "metadata": {},
     "output_type": "execute_result"
    }
   ],
   "source": [
    "nlp_df[\"input\"].str.len()"
   ]
  },
  {
   "cell_type": "code",
   "execution_count": 71,
   "id": "7abe7e52",
   "metadata": {},
   "outputs": [
    {
     "data": {
      "text/html": [
       "<div>\n",
       "<style scoped>\n",
       "    .dataframe tbody tr th:only-of-type {\n",
       "        vertical-align: middle;\n",
       "    }\n",
       "\n",
       "    .dataframe tbody tr th {\n",
       "        vertical-align: top;\n",
       "    }\n",
       "\n",
       "    .dataframe thead th {\n",
       "        text-align: right;\n",
       "    }\n",
       "</style>\n",
       "<table border=\"1\" class=\"dataframe\">\n",
       "  <thead>\n",
       "    <tr style=\"text-align: right;\">\n",
       "      <th></th>\n",
       "      <th>title</th>\n",
       "      <th>img_captions_str</th>\n",
       "      <th>meme_captions_str</th>\n",
       "      <th>metaphors_str</th>\n",
       "      <th>url</th>\n",
       "      <th>input</th>\n",
       "    </tr>\n",
       "  </thead>\n",
       "  <tbody>\n",
       "    <tr>\n",
       "      <th>0</th>\n",
       "      <td>For real though</td>\n",
       "      <td>Person in Spider Man outfit gives a lecture on stage., Person dressed as spider man stands in front of crowd with notes</td>\n",
       "      <td>Meme poster is frustrated about the format of the website and is making a suggestion for improvement.</td>\n",
       "      <td>Spider Man outfit: Meme poster, a lecture: complaint, spider man: Meme poster, crowd: meme readers</td>\n",
       "      <td>https://i.redd.it/m16dhaqyply21.jpg</td>\n",
       "      <td>TEXT: For real though; Person in Spider Man outfit gives a lecture on stage., Person dressed as spider man stands in front of crowd with notes; Meme poster is frustrated about the format of the website and is making a suggestion for improvement.; Spider Man outfit: Meme poster, a lecture: complaint, spider man: Meme poster, crowd: meme readers</td>\n",
       "    </tr>\n",
       "    <tr>\n",
       "      <th>1</th>\n",
       "      <td>And that's a fact</td>\n",
       "      <td>Two dogs carry a white flag, Identical chubby animated dogs carry a white banner.</td>\n",
       "      <td>Meme poster is saying that searching Google plus the term you want to search on reddit is better than searching reddit itself., Meme poster is telling everyone that Google can get you your answers faster than Reddit can.</td>\n",
       "      <td>Two dogs: Meme poster, a white flag: PSA, carry: PSA, Identical chubby animated dogs: PSA, a white banner: PSA, carry: PSA</td>\n",
       "      <td>https://i.redd.it/z9oh7ligb0i31.jpg</td>\n",
       "      <td>TEXT: And that's a fact; Two dogs carry a white flag, Identical chubby animated dogs carry a white banner.; Meme poster is saying that searching Google plus the term you want to search on reddit is better than searching reddit itself., Meme poster is telling everyone that Google can get you your answers faster than Reddit can.; Two dogs: Meme poster, a white flag: PSA, carry: PSA, Identical chubby animated dogs: PSA, a white banner: PSA, carry: PSA</td>\n",
       "    </tr>\n",
       "    <tr>\n",
       "      <th>2</th>\n",
       "      <td>It was horrible</td>\n",
       "      <td>man is very dissatisfied with what he sees, Quentin Tarantino is standing sad in different rooms.</td>\n",
       "      <td>Meme poster is feeling sad.</td>\n",
       "      <td>man: Meme poster, sees: expressing different rooms, Quentin Tarantino: expressing different rooms, different rooms: expressing different rooms, standing: expressing different rooms</td>\n",
       "      <td>https://i.redd.it/yves3izsbsj31.jpg</td>\n",
       "      <td>TEXT: It was horrible; man is very dissatisfied with what he sees, Quentin Tarantino is standing sad in different rooms.; Meme poster is feeling sad.; man: Meme poster, sees: expressing different rooms, Quentin Tarantino: expressing different rooms, different rooms: expressing different rooms, standing: expressing different rooms</td>\n",
       "    </tr>\n",
       "    <tr>\n",
       "      <th>3</th>\n",
       "      <td>This is why Reddit is better</td>\n",
       "      <td>A man that is crying and a man that is laughing while holding his golden glasses., A black man looking at camera tearing up, second image of man pulling down glasses with one hand and laughing</td>\n",
       "      <td>Meme poster is saying that Reddit is more fun than Instagram., The person who wrote the post is saying people on Instagram are soft and reddit are funny.</td>\n",
       "      <td>A man: Meme poster, a man: Meme poster, his golden glasses: Meme poster, crying: Meme poster, laughing: Meme poster, A black man: Meme poster</td>\n",
       "      <td>https://i.redd.it/y594n8exi6k31.jpg</td>\n",
       "      <td>TEXT: This is why Reddit is better; A man that is crying and a man that is laughing while holding his golden glasses., A black man looking at camera tearing up, second image of man pulling down glasses with one hand and laughing ; Meme poster is saying that Reddit is more fun than Instagram., The person who wrote the post is saying people on Instagram are soft and reddit are funny.; A man: Meme poster, a man: Meme poster, his golden glasses: Meme poster, crying: Meme poster, laughing: Meme poster, A black man: Meme poster</td>\n",
       "    </tr>\n",
       "    <tr>\n",
       "      <th>4</th>\n",
       "      <td>The Area 51 raid is still happening right?</td>\n",
       "      <td>a cop is chasing a thief with a shopping cart, A policeman chasing a man with a shopping basket.</td>\n",
       "      <td>Meme poster is making fun of the Area 51 raid.</td>\n",
       "      <td>a cop: Meme poster, a thief: not being bothered with something, a shopping cart: not being bothered with something, chasing: not being bothered with something, A policeman: Meme poster, a man: not being bothered with something, a shopping basket: not being bothered with something, chasing: not being bothered with something</td>\n",
       "      <td>https://i.redd.it/4hrn18t4lck31.jpg</td>\n",
       "      <td>TEXT: The Area 51 raid is still happening right?; a cop is chasing a thief with a shopping cart, A policeman chasing a man with a shopping basket.; Meme poster is making fun of the Area 51 raid.; a cop: Meme poster, a thief: not being bothered with something, a shopping cart: not being bothered with something, chasing: not being bothered with something, A policeman: Meme poster, a man: not being bothered with something, a shopping basket: not being bothered with something, chasing: not being bothered with something</td>\n",
       "    </tr>\n",
       "    <tr>\n",
       "      <th>...</th>\n",
       "      <td>...</td>\n",
       "      <td>...</td>\n",
       "      <td>...</td>\n",
       "      <td>...</td>\n",
       "      <td>...</td>\n",
       "      <td>...</td>\n",
       "    </tr>\n",
       "    <tr>\n",
       "      <th>456</th>\n",
       "      <td>Don't say that to an Indian again</td>\n",
       "      <td>some group of people discussing in round table</td>\n",
       "      <td>Meme poster is trying to convey that people slander Indians for eating with their hands but Americans eat pizza with their hands too.</td>\n",
       "      <td></td>\n",
       "      <td>https://i.redd.it/jrpak4me5xt91.jpg</td>\n",
       "      <td>TEXT: Don't say that to an Indian again; some group of people discussing in round table; Meme poster is trying to convey that people slander Indians for eating with their hands but Americans eat pizza with their hands too.;</td>\n",
       "    </tr>\n",
       "    <tr>\n",
       "      <th>457</th>\n",
       "      <td>Fr tho, this app sucks otherwise</td>\n",
       "      <td>People are looking out the windows of cars.</td>\n",
       "      <td>Meme poster is trying to convey that Twitter is dying because it's community while Reddit lives because of it's community and both want what they can't get in the other.</td>\n",
       "      <td>People: different websites</td>\n",
       "      <td>https://i.redd.it/ntj8f0wonxt91.jpg</td>\n",
       "      <td>TEXT: Fr tho, this app sucks otherwise; People are looking out the windows of cars.; Meme poster is trying to convey that Twitter is dying because it's community while Reddit lives because of it's community and both want what they can't get in the other.; People: different websites</td>\n",
       "    </tr>\n",
       "    <tr>\n",
       "      <th>458</th>\n",
       "      <td>how to use soup</td>\n",
       "      <td>A group of young people try to sell soup in different situations.</td>\n",
       "      <td>Meme poster is trying to convey that Soup shouldn't be used to mame paintings, it should be used to give to others for food.</td>\n",
       "      <td></td>\n",
       "      <td>https://i.redd.it/0ij3i4gd1yt91.jpg</td>\n",
       "      <td>TEXT: how to use soup; A group of young people try to sell soup in different situations.; Meme poster is trying to convey that Soup shouldn't be used to mame paintings, it should be used to give to others for food.;</td>\n",
       "    </tr>\n",
       "    <tr>\n",
       "      <th>459</th>\n",
       "      <td>Run, and if you can't run, walk, and if you can't walk, crawl, but no matter what, get out of there</td>\n",
       "      <td>A boy is dressed up and his hair is slicked back.</td>\n",
       "      <td>Meme poster is trying to convey that Mom figures out kid used video games whenhe was not supposed to.</td>\n",
       "      <td>A boy: Caught kid</td>\n",
       "      <td>https://i.redd.it/rq6lsc30dyt91.png</td>\n",
       "      <td>TEXT: Run, and if you can't run, walk, and if you can't walk, crawl, but no matter what, get out of there; A boy is dressed up and his hair is slicked back.; Meme poster is trying to convey that Mom figures out kid used video games whenhe was not supposed to. ; A boy: Caught kid</td>\n",
       "    </tr>\n",
       "    <tr>\n",
       "      <th>460</th>\n",
       "      <td>None</td>\n",
       "      <td>two kids afraid of a black rabbit and a tiger coming at their back</td>\n",
       "      <td>Meme poster is trying to convey that  the second and third commenters on a meme are scared of the next one while in the back the first commenter will kill them all.</td>\n",
       "      <td>two kids: second and third comment, a black rabbit: fourth comment, a tiger: first comment</td>\n",
       "      <td>https://i.redd.it/2ahhie40ezt91.jpg</td>\n",
       "      <td>NaN</td>\n",
       "    </tr>\n",
       "  </tbody>\n",
       "</table>\n",
       "<p>461 rows × 6 columns</p>\n",
       "</div>"
      ],
      "text/plain": [
       "                                                                                                   title   \n",
       "0                                                                                        For real though  \\\n",
       "1                                                                                      And that's a fact   \n",
       "2                                                                                        It was horrible   \n",
       "3                                                                           This is why Reddit is better   \n",
       "4                                                             The Area 51 raid is still happening right?   \n",
       "..                                                                                                   ...   \n",
       "456                                                                    Don't say that to an Indian again   \n",
       "457                                                                     Fr tho, this app sucks otherwise   \n",
       "458                                                                                      how to use soup   \n",
       "459  Run, and if you can't run, walk, and if you can't walk, crawl, but no matter what, get out of there   \n",
       "460                                                                                                 None   \n",
       "\n",
       "                                                                                                                                                                                      img_captions_str   \n",
       "0                                                                              Person in Spider Man outfit gives a lecture on stage., Person dressed as spider man stands in front of crowd with notes  \\\n",
       "1                                                                                                                    Two dogs carry a white flag, Identical chubby animated dogs carry a white banner.   \n",
       "2                                                                                                    man is very dissatisfied with what he sees, Quentin Tarantino is standing sad in different rooms.   \n",
       "3    A man that is crying and a man that is laughing while holding his golden glasses., A black man looking at camera tearing up, second image of man pulling down glasses with one hand and laughing    \n",
       "4                                                                                                     a cop is chasing a thief with a shopping cart, A policeman chasing a man with a shopping basket.   \n",
       "..                                                                                                                                                                                                 ...   \n",
       "456                                                                                                                                                     some group of people discussing in round table   \n",
       "457                                                                                                                                                        People are looking out the windows of cars.   \n",
       "458                                                                                                                                  A group of young people try to sell soup in different situations.   \n",
       "459                                                                                                                                                  A boy is dressed up and his hair is slicked back.   \n",
       "460                                                                                                                                 two kids afraid of a black rabbit and a tiger coming at their back   \n",
       "\n",
       "                                                                                                                                                                                                                meme_captions_str   \n",
       "0                                                                                                                           Meme poster is frustrated about the format of the website and is making a suggestion for improvement.  \\\n",
       "1    Meme poster is saying that searching Google plus the term you want to search on reddit is better than searching reddit itself., Meme poster is telling everyone that Google can get you your answers faster than Reddit can.   \n",
       "2                                                                                                                                                                                                     Meme poster is feeling sad.   \n",
       "3                                                                       Meme poster is saying that Reddit is more fun than Instagram., The person who wrote the post is saying people on Instagram are soft and reddit are funny.   \n",
       "4                                                                                                                                                                                  Meme poster is making fun of the Area 51 raid.   \n",
       "..                                                                                                                                                                                                                            ...   \n",
       "456                                                                                         Meme poster is trying to convey that people slander Indians for eating with their hands but Americans eat pizza with their hands too.   \n",
       "457                                                     Meme poster is trying to convey that Twitter is dying because it's community while Reddit lives because of it's community and both want what they can't get in the other.   \n",
       "458                                                                                                  Meme poster is trying to convey that Soup shouldn't be used to mame paintings, it should be used to give to others for food.   \n",
       "459                                                                                                                        Meme poster is trying to convey that Mom figures out kid used video games whenhe was not supposed to.    \n",
       "460                                                         Meme poster is trying to convey that  the second and third commenters on a meme are scared of the next one while in the back the first commenter will kill them all.    \n",
       "\n",
       "                                                                                                                                                                                                                                                                                                                            metaphors_str   \n",
       "0                                                                                                                                                                                                                                      Spider Man outfit: Meme poster, a lecture: complaint, spider man: Meme poster, crowd: meme readers  \\\n",
       "1                                                                                                                                                                                                              Two dogs: Meme poster, a white flag: PSA, carry: PSA, Identical chubby animated dogs: PSA, a white banner: PSA, carry: PSA   \n",
       "2                                                                                                                                                    man: Meme poster, sees: expressing different rooms, Quentin Tarantino: expressing different rooms, different rooms: expressing different rooms, standing: expressing different rooms   \n",
       "3                                                                                                                                                                                           A man: Meme poster, a man: Meme poster, his golden glasses: Meme poster, crying: Meme poster, laughing: Meme poster, A black man: Meme poster   \n",
       "4    a cop: Meme poster, a thief: not being bothered with something, a shopping cart: not being bothered with something, chasing: not being bothered with something, A policeman: Meme poster, a man: not being bothered with something, a shopping basket: not being bothered with something, chasing: not being bothered with something   \n",
       "..                                                                                                                                                                                                                                                                                                                                    ...   \n",
       "456                                                                                                                                                                                                                                                                                                                                         \n",
       "457                                                                                                                                                                                                                                                                                                            People: different websites   \n",
       "458                                                                                                                                                                                                                                                                                                                                         \n",
       "459                                                                                                                                                                                                                                                                                                                     A boy: Caught kid   \n",
       "460                                                                                                                                                                                                                                            two kids: second and third comment, a black rabbit: fourth comment, a tiger: first comment   \n",
       "\n",
       "                                     url   \n",
       "0    https://i.redd.it/m16dhaqyply21.jpg  \\\n",
       "1    https://i.redd.it/z9oh7ligb0i31.jpg   \n",
       "2    https://i.redd.it/yves3izsbsj31.jpg   \n",
       "3    https://i.redd.it/y594n8exi6k31.jpg   \n",
       "4    https://i.redd.it/4hrn18t4lck31.jpg   \n",
       "..                                   ...   \n",
       "456  https://i.redd.it/jrpak4me5xt91.jpg   \n",
       "457  https://i.redd.it/ntj8f0wonxt91.jpg   \n",
       "458  https://i.redd.it/0ij3i4gd1yt91.jpg   \n",
       "459  https://i.redd.it/rq6lsc30dyt91.png   \n",
       "460  https://i.redd.it/2ahhie40ezt91.jpg   \n",
       "\n",
       "                                                                                                                                                                                                                                                                                                                                                                                                                                                                                                                                               input  \n",
       "0                                                                                                                                                                                          TEXT: For real though; Person in Spider Man outfit gives a lecture on stage., Person dressed as spider man stands in front of crowd with notes; Meme poster is frustrated about the format of the website and is making a suggestion for improvement.; Spider Man outfit: Meme poster, a lecture: complaint, spider man: Meme poster, crowd: meme readers  \n",
       "1                                                                               TEXT: And that's a fact; Two dogs carry a white flag, Identical chubby animated dogs carry a white banner.; Meme poster is saying that searching Google plus the term you want to search on reddit is better than searching reddit itself., Meme poster is telling everyone that Google can get you your answers faster than Reddit can.; Two dogs: Meme poster, a white flag: PSA, carry: PSA, Identical chubby animated dogs: PSA, a white banner: PSA, carry: PSA  \n",
       "2                                                                                                                                                                                                        TEXT: It was horrible; man is very dissatisfied with what he sees, Quentin Tarantino is standing sad in different rooms.; Meme poster is feeling sad.; man: Meme poster, sees: expressing different rooms, Quentin Tarantino: expressing different rooms, different rooms: expressing different rooms, standing: expressing different rooms  \n",
       "3    TEXT: This is why Reddit is better; A man that is crying and a man that is laughing while holding his golden glasses., A black man looking at camera tearing up, second image of man pulling down glasses with one hand and laughing ; Meme poster is saying that Reddit is more fun than Instagram., The person who wrote the post is saying people on Instagram are soft and reddit are funny.; A man: Meme poster, a man: Meme poster, his golden glasses: Meme poster, crying: Meme poster, laughing: Meme poster, A black man: Meme poster  \n",
       "4           TEXT: The Area 51 raid is still happening right?; a cop is chasing a thief with a shopping cart, A policeman chasing a man with a shopping basket.; Meme poster is making fun of the Area 51 raid.; a cop: Meme poster, a thief: not being bothered with something, a shopping cart: not being bothered with something, chasing: not being bothered with something, A policeman: Meme poster, a man: not being bothered with something, a shopping basket: not being bothered with something, chasing: not being bothered with something  \n",
       "..                                                                                                                                                                                                                                                                                                                                                                                                                                                                                                                                               ...  \n",
       "456                                                                                                                                                                                                                                                                                                                 TEXT: Don't say that to an Indian again; some group of people discussing in round table; Meme poster is trying to convey that people slander Indians for eating with their hands but Americans eat pizza with their hands too.;   \n",
       "457                                                                                                                                                                                                                                                       TEXT: Fr tho, this app sucks otherwise; People are looking out the windows of cars.; Meme poster is trying to convey that Twitter is dying because it's community while Reddit lives because of it's community and both want what they can't get in the other.; People: different websites  \n",
       "458                                                                                                                                                                                                                                                                                                                         TEXT: how to use soup; A group of young people try to sell soup in different situations.; Meme poster is trying to convey that Soup shouldn't be used to mame paintings, it should be used to give to others for food.;   \n",
       "459                                                                                                                                                                                                                                                          TEXT: Run, and if you can't run, walk, and if you can't walk, crawl, but no matter what, get out of there; A boy is dressed up and his hair is slicked back.; Meme poster is trying to convey that Mom figures out kid used video games whenhe was not supposed to. ; A boy: Caught kid  \n",
       "460                                                                                                                                                                                                                                                                                                                                                                                                                                                                                                                                              NaN  \n",
       "\n",
       "[461 rows x 6 columns]"
      ]
     },
     "execution_count": 71,
     "metadata": {},
     "output_type": "execute_result"
    }
   ],
   "source": [
    "nlp_df.head(461)"
   ]
  },
  {
   "cell_type": "code",
   "execution_count": 72,
   "id": "b4228f09",
   "metadata": {},
   "outputs": [
    {
     "data": {
      "text/plain": [
       "5"
      ]
     },
     "execution_count": 72,
     "metadata": {},
     "output_type": "execute_result"
    }
   ],
   "source": [
    "nlp_df['input'].isnull().values.sum()"
   ]
  },
  {
   "cell_type": "code",
   "execution_count": 73,
   "id": "84631a23",
   "metadata": {},
   "outputs": [],
   "source": [
    "nlp_df = nlp_df.dropna()"
   ]
  },
  {
   "cell_type": "code",
   "execution_count": 74,
   "id": "d721e81e",
   "metadata": {},
   "outputs": [
    {
     "data": {
      "text/plain": [
       "5818"
      ]
     },
     "execution_count": 74,
     "metadata": {},
     "output_type": "execute_result"
    }
   ],
   "source": [
    "len(nlp_df)"
   ]
  },
  {
   "cell_type": "code",
   "execution_count": 75,
   "id": "d63bc311",
   "metadata": {},
   "outputs": [
    {
     "data": {
      "text/plain": [
       "0"
      ]
     },
     "execution_count": 75,
     "metadata": {},
     "output_type": "execute_result"
    }
   ],
   "source": [
    "nlp_df['input'].isnull().values.sum()"
   ]
  },
  {
   "cell_type": "code",
   "execution_count": 76,
   "id": "a054146b",
   "metadata": {},
   "outputs": [],
   "source": [
    "nlp_df.to_csv(\"../data/input.csv\")"
   ]
  },
  {
   "cell_type": "code",
   "execution_count": 77,
   "id": "171d5f53",
   "metadata": {},
   "outputs": [
    {
     "data": {
      "text/plain": [
       "5818"
      ]
     },
     "execution_count": 77,
     "metadata": {},
     "output_type": "execute_result"
    }
   ],
   "source": [
    "len(nlp_df)"
   ]
  },
  {
   "cell_type": "code",
   "execution_count": null,
   "id": "bfd855ee",
   "metadata": {},
   "outputs": [],
   "source": []
  }
 ],
 "metadata": {
  "kernelspec": {
   "display_name": "Python 3 (ipykernel)",
   "language": "python",
   "name": "python3"
  },
  "language_info": {
   "codemirror_mode": {
    "name": "ipython",
    "version": 3
   },
   "file_extension": ".py",
   "mimetype": "text/x-python",
   "name": "python",
   "nbconvert_exporter": "python",
   "pygments_lexer": "ipython3",
   "version": "3.10.10"
  }
 },
 "nbformat": 4,
 "nbformat_minor": 5
}
