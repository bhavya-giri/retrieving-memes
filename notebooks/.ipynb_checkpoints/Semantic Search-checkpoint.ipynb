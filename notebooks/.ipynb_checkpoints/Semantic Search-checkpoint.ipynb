{
 "cells": [
  {
   "cell_type": "markdown",
   "id": "bb7b6688",
   "metadata": {},
   "source": [
    "## Imports"
   ]
  },
  {
   "cell_type": "code",
   "execution_count": 40,
   "id": "4298d46a",
   "metadata": {},
   "outputs": [],
   "source": [
    "import pandas as pd\n",
    "\n",
    "import torch\n",
    "from sentence_transformers import SentenceTransformer\n",
    "import pickle"
   ]
  },
  {
   "cell_type": "code",
   "execution_count": 41,
   "id": "5aa91761",
   "metadata": {},
   "outputs": [
    {
     "data": {
      "text/html": [
       "<div>\n",
       "<style scoped>\n",
       "    .dataframe tbody tr th:only-of-type {\n",
       "        vertical-align: middle;\n",
       "    }\n",
       "\n",
       "    .dataframe tbody tr th {\n",
       "        vertical-align: top;\n",
       "    }\n",
       "\n",
       "    .dataframe thead th {\n",
       "        text-align: right;\n",
       "    }\n",
       "</style>\n",
       "<table border=\"1\" class=\"dataframe\">\n",
       "  <thead>\n",
       "    <tr style=\"text-align: right;\">\n",
       "      <th></th>\n",
       "      <th>Unnamed: 0</th>\n",
       "      <th>id</th>\n",
       "      <th>input</th>\n",
       "      <th>url</th>\n",
       "    </tr>\n",
       "  </thead>\n",
       "  <tbody>\n",
       "    <tr>\n",
       "      <th>5813</th>\n",
       "      <td>5818</td>\n",
       "      <td>5813</td>\n",
       "      <td>TEXT: Posting memes until I get my master's de...</td>\n",
       "      <td>https://i.redd.it/p5t3m0ujt24a1.jpg</td>\n",
       "    </tr>\n",
       "    <tr>\n",
       "      <th>5814</th>\n",
       "      <td>5819</td>\n",
       "      <td>5814</td>\n",
       "      <td>TEXT: *pretends to think*; A woman is deep in ...</td>\n",
       "      <td>https://i.redd.it/yyru9fqbu24a1.jpg</td>\n",
       "    </tr>\n",
       "    <tr>\n",
       "      <th>5815</th>\n",
       "      <td>5820</td>\n",
       "      <td>5815</td>\n",
       "      <td>TEXT: overreaction indeed; Captain America tal...</td>\n",
       "      <td>https://i.redd.it/n2qnaoztu24a1.jpg</td>\n",
       "    </tr>\n",
       "    <tr>\n",
       "      <th>5816</th>\n",
       "      <td>5821</td>\n",
       "      <td>5816</td>\n",
       "      <td>TEXT: Anime watchers be like; two drawn faces ...</td>\n",
       "      <td>https://farm66.staticflickr.com/65535/52761413...</td>\n",
       "    </tr>\n",
       "    <tr>\n",
       "      <th>5817</th>\n",
       "      <td>5822</td>\n",
       "      <td>5817</td>\n",
       "      <td>TEXT: Gentlemen, is with great pleasure to inf...</td>\n",
       "      <td>https://i.redd.it/f6b53ppyx24a1.jpg</td>\n",
       "    </tr>\n",
       "  </tbody>\n",
       "</table>\n",
       "</div>"
      ],
      "text/plain": [
       "      Unnamed: 0    id                                              input  \\\n",
       "5813        5818  5813  TEXT: Posting memes until I get my master's de...   \n",
       "5814        5819  5814  TEXT: *pretends to think*; A woman is deep in ...   \n",
       "5815        5820  5815  TEXT: overreaction indeed; Captain America tal...   \n",
       "5816        5821  5816  TEXT: Anime watchers be like; two drawn faces ...   \n",
       "5817        5822  5817  TEXT: Gentlemen, is with great pleasure to inf...   \n",
       "\n",
       "                                                    url  \n",
       "5813                https://i.redd.it/p5t3m0ujt24a1.jpg  \n",
       "5814                https://i.redd.it/yyru9fqbu24a1.jpg  \n",
       "5815                https://i.redd.it/n2qnaoztu24a1.jpg  \n",
       "5816  https://farm66.staticflickr.com/65535/52761413...  \n",
       "5817                https://i.redd.it/f6b53ppyx24a1.jpg  "
      ]
     },
     "execution_count": 41,
     "metadata": {},
     "output_type": "execute_result"
    }
   ],
   "source": [
    "# Reading Input Dataset\n",
    "df = pd.read_csv(\"../data/input.csv\")\n",
    "df.tail()"
   ]
  },
  {
   "cell_type": "code",
   "execution_count": 42,
   "id": "de4fbd67",
   "metadata": {},
   "outputs": [],
   "source": [
    "# Loading model\n",
    "model = SentenceTransformer('sentence-transformers/all-mpnet-base-v2')\n",
    "model = model.to(\"mps\")"
   ]
  },
  {
   "cell_type": "code",
   "execution_count": 43,
   "id": "d40ccd2d",
   "metadata": {},
   "outputs": [
    {
     "data": {
      "application/vnd.jupyter.widget-view+json": {
       "model_id": "b7eef4ca40cd4efdb0be23e3b19890d2",
       "version_major": 2,
       "version_minor": 0
      },
      "text/plain": [
       "Batches:   0%|          | 0/182 [00:00<?, ?it/s]"
      ]
     },
     "metadata": {},
     "output_type": "display_data"
    }
   ],
   "source": [
    "# Creating embeddings\n",
    "embeddings = model.encode(df[\"input\"].to_list(), show_progress_bar=True)"
   ]
  },
  {
   "cell_type": "code",
   "execution_count": 44,
   "id": "1f45cd2e",
   "metadata": {},
   "outputs": [],
   "source": [
    "# Saving the embeddings\n",
    "with open('../data/meme-embeddings.pkl', \"wb\") as fOut:\n",
    "    pickle.dump(embeddings, fOut)"
   ]
  },
  {
   "cell_type": "code",
   "execution_count": 45,
   "id": "ef2ce91d",
   "metadata": {},
   "outputs": [
    {
     "name": "stdout",
     "output_type": "stream",
     "text": [
      "Shape of one embedding(768,)\n"
     ]
    }
   ],
   "source": [
    "print(f\"Shape of one embedding{embeddings[0].shape}\")"
   ]
  },
  {
   "cell_type": "code",
   "execution_count": 46,
   "id": "f7d8f205",
   "metadata": {},
   "outputs": [],
   "source": [
    "# Giving a prompt\n",
    "from sentence_transformers import util\n",
    "prompt = \"Spiderman giving lecture\"\n",
    "prompt_embedding = model.encode(prompt, convert_to_tensor=True)\n",
    "hits = util.semantic_search(prompt_embedding,embeddings, top_k=5) # using cosine simarlity to compare embeddings\n",
    "hits = pd.DataFrame(hits[0], columns=['corpus_id', 'score'])"
   ]
  },
  {
   "cell_type": "code",
   "execution_count": 47,
   "id": "15283a58",
   "metadata": {},
   "outputs": [
    {
     "data": {
      "text/plain": [
       "['https://i.redd.it/m16dhaqyply21.jpg',\n",
       " 'https://i.redd.it/obobf6u1exx91.jpg',\n",
       " 'https://i.redd.it/gmnwi9dxdfy91.jpg',\n",
       " 'https://farm66.staticflickr.com/65535/52761820325_bc9f10f3c6.png',\n",
       " 'https://i.redd.it/wm1nxjuehy3a1.jpg']"
      ]
     },
     "execution_count": 47,
     "metadata": {},
     "output_type": "execute_result"
    }
   ],
   "source": [
    "# Output memes\n",
    "desired_ids = hits[\"corpus_id\"]\n",
    "filtered_df = df.loc[df['id'].isin(desired_ids)]\n",
    "retrieved_memes = list(filtered_df[\"url\"])\n",
    "retrieved_memes"
   ]
  },
  {
   "cell_type": "code",
   "execution_count": 49,
   "id": "a8da4893",
   "metadata": {},
   "outputs": [
    {
     "data": {
      "text/html": [
       "<img src=\"https://i.redd.it/m16dhaqyply21.jpg\" width=\"200\" height=\"200\"/>"
      ],
      "text/plain": [
       "<IPython.core.display.Image object>"
      ]
     },
     "metadata": {},
     "output_type": "display_data"
    },
    {
     "data": {
      "text/html": [
       "<img src=\"https://i.redd.it/obobf6u1exx91.jpg\" width=\"200\" height=\"200\"/>"
      ],
      "text/plain": [
       "<IPython.core.display.Image object>"
      ]
     },
     "metadata": {},
     "output_type": "display_data"
    },
    {
     "data": {
      "text/html": [
       "<img src=\"https://i.redd.it/gmnwi9dxdfy91.jpg\" width=\"200\" height=\"200\"/>"
      ],
      "text/plain": [
       "<IPython.core.display.Image object>"
      ]
     },
     "metadata": {},
     "output_type": "display_data"
    },
    {
     "data": {
      "text/html": [
       "<img src=\"https://farm66.staticflickr.com/65535/52761820325_bc9f10f3c6.png\" width=\"200\" height=\"200\"/>"
      ],
      "text/plain": [
       "<IPython.core.display.Image object>"
      ]
     },
     "metadata": {},
     "output_type": "display_data"
    },
    {
     "data": {
      "text/html": [
       "<img src=\"https://i.redd.it/wm1nxjuehy3a1.jpg\" width=\"200\" height=\"200\"/>"
      ],
      "text/plain": [
       "<IPython.core.display.Image object>"
      ]
     },
     "metadata": {},
     "output_type": "display_data"
    },
    {
     "data": {
      "text/plain": [
       "[None, None, None, None, None]"
      ]
     },
     "execution_count": 49,
     "metadata": {},
     "output_type": "execute_result"
    }
   ],
   "source": [
    "from IPython.display import Image,display\n",
    "[display(Image(url=x,width=200, height=200)) for x in retrieved_memes]"
   ]
  },
  {
   "cell_type": "code",
   "execution_count": null,
   "id": "64a59ed8",
   "metadata": {},
   "outputs": [],
   "source": []
  }
 ],
 "metadata": {
  "kernelspec": {
   "display_name": "Python 3 (ipykernel)",
   "language": "python",
   "name": "python3"
  },
  "language_info": {
   "codemirror_mode": {
    "name": "ipython",
    "version": 3
   },
   "file_extension": ".py",
   "mimetype": "text/x-python",
   "name": "python",
   "nbconvert_exporter": "python",
   "pygments_lexer": "ipython3",
   "version": "3.10.10"
  }
 },
 "nbformat": 4,
 "nbformat_minor": 5
}
