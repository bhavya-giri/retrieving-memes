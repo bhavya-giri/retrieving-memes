{
 "cells": [
  {
   "cell_type": "markdown",
   "id": "ae5bd071",
   "metadata": {},
   "source": [
    "## Imports"
   ]
  },
  {
   "cell_type": "code",
   "execution_count": 1,
   "id": "4298d46a",
   "metadata": {},
   "outputs": [],
   "source": [
    "import pandas as pd\n",
    "\n",
    "import torch\n",
    "from sentence_transformers import SentenceTransformer\n",
    "import pickle"
   ]
  },
  {
   "cell_type": "code",
   "execution_count": 2,
   "id": "5aa91761",
   "metadata": {},
   "outputs": [
    {
     "data": {
      "text/html": [
       "<div>\n",
       "<style scoped>\n",
       "    .dataframe tbody tr th:only-of-type {\n",
       "        vertical-align: middle;\n",
       "    }\n",
       "\n",
       "    .dataframe tbody tr th {\n",
       "        vertical-align: top;\n",
       "    }\n",
       "\n",
       "    .dataframe thead th {\n",
       "        text-align: right;\n",
       "    }\n",
       "</style>\n",
       "<table border=\"1\" class=\"dataframe\">\n",
       "  <thead>\n",
       "    <tr style=\"text-align: right;\">\n",
       "      <th></th>\n",
       "      <th>Unnamed: 0</th>\n",
       "      <th>id</th>\n",
       "      <th>input</th>\n",
       "      <th>url</th>\n",
       "    </tr>\n",
       "  </thead>\n",
       "  <tbody>\n",
       "    <tr>\n",
       "      <th>0</th>\n",
       "      <td>0</td>\n",
       "      <td>1</td>\n",
       "      <td>TEXT: For real though; Person in Spider Man ou...</td>\n",
       "      <td>https://i.redd.it/m16dhaqyply21.jpg</td>\n",
       "    </tr>\n",
       "    <tr>\n",
       "      <th>1</th>\n",
       "      <td>1</td>\n",
       "      <td>2</td>\n",
       "      <td>TEXT: And that's a fact; Two dogs carry a whit...</td>\n",
       "      <td>https://i.redd.it/z9oh7ligb0i31.jpg</td>\n",
       "    </tr>\n",
       "    <tr>\n",
       "      <th>2</th>\n",
       "      <td>2</td>\n",
       "      <td>3</td>\n",
       "      <td>TEXT: It was horrible; man is very dissatisfie...</td>\n",
       "      <td>https://i.redd.it/yves3izsbsj31.jpg</td>\n",
       "    </tr>\n",
       "    <tr>\n",
       "      <th>3</th>\n",
       "      <td>3</td>\n",
       "      <td>4</td>\n",
       "      <td>TEXT: This is why Reddit is better; A man that...</td>\n",
       "      <td>https://i.redd.it/y594n8exi6k31.jpg</td>\n",
       "    </tr>\n",
       "    <tr>\n",
       "      <th>4</th>\n",
       "      <td>4</td>\n",
       "      <td>5</td>\n",
       "      <td>TEXT: The Area 51 raid is still happening righ...</td>\n",
       "      <td>https://i.redd.it/4hrn18t4lck31.jpg</td>\n",
       "    </tr>\n",
       "  </tbody>\n",
       "</table>\n",
       "</div>"
      ],
      "text/plain": [
       "   Unnamed: 0  id                                              input  \\\n",
       "0           0   1  TEXT: For real though; Person in Spider Man ou...   \n",
       "1           1   2  TEXT: And that's a fact; Two dogs carry a whit...   \n",
       "2           2   3  TEXT: It was horrible; man is very dissatisfie...   \n",
       "3           3   4  TEXT: This is why Reddit is better; A man that...   \n",
       "4           4   5  TEXT: The Area 51 raid is still happening righ...   \n",
       "\n",
       "                                   url  \n",
       "0  https://i.redd.it/m16dhaqyply21.jpg  \n",
       "1  https://i.redd.it/z9oh7ligb0i31.jpg  \n",
       "2  https://i.redd.it/yves3izsbsj31.jpg  \n",
       "3  https://i.redd.it/y594n8exi6k31.jpg  \n",
       "4  https://i.redd.it/4hrn18t4lck31.jpg  "
      ]
     },
     "execution_count": 2,
     "metadata": {},
     "output_type": "execute_result"
    }
   ],
   "source": [
    "# Reading Input Dataset\n",
    "df = pd.read_csv(\"../data/input.csv\")\n",
    "df.head()"
   ]
  },
  {
   "cell_type": "code",
   "execution_count": 26,
   "id": "de4fbd67",
   "metadata": {},
   "outputs": [],
   "source": [
    "# Loading model\n",
    "model = SentenceTransformer('sentence-transformers/all-mpnet-base-v2')\n",
    "model = model.to(\"mps\")"
   ]
  },
  {
   "cell_type": "code",
   "execution_count": 25,
   "id": "d40ccd2d",
   "metadata": {},
   "outputs": [
    {
     "data": {
      "application/vnd.jupyter.widget-view+json": {
       "model_id": "f22334f86aa24e51b844adf5ba40606b",
       "version_major": 2,
       "version_minor": 0
      },
      "text/plain": [
       "Batches:   0%|          | 0/182 [00:00<?, ?it/s]"
      ]
     },
     "metadata": {},
     "output_type": "display_data"
    }
   ],
   "source": [
    "# Creating embeddings\n",
    "embeddings = model.encode(df[\"input\"].to_list(), show_progress_bar=True)"
   ]
  },
  {
   "cell_type": "code",
   "execution_count": 27,
   "id": "1f45cd2e",
   "metadata": {},
   "outputs": [],
   "source": [
    "# Saving the embeddings\n",
    "with open('../data/meme-embeddings.pkl', \"wb\") as fOut:\n",
    "    pickle.dump(embeddings, fOut)"
   ]
  },
  {
   "cell_type": "code",
   "execution_count": 28,
   "id": "ef2ce91d",
   "metadata": {},
   "outputs": [
    {
     "name": "stdout",
     "output_type": "stream",
     "text": [
      "Shape of one embedding(768,)\n"
     ]
    }
   ],
   "source": [
    "print(f\"Shape of one embedding{embeddings[0].shape}\")"
   ]
  },
  {
   "cell_type": "code",
   "execution_count": 33,
   "id": "f7d8f205",
   "metadata": {},
   "outputs": [],
   "source": [
    "# Giving a prompt\n",
    "from sentence_transformers import util\n",
    "prompt = \"Spiderman\"\n",
    "prompt_embedding = model.encode(prompt, convert_to_tensor=True)\n",
    "hits = util.semantic_search(prompt_embedding,embeddings, top_k=5) # using cosine simarlity to compare embeddings\n",
    "hits = pd.DataFrame(hits[0], columns=['corpus_id', 'score'])"
   ]
  },
  {
   "cell_type": "code",
   "execution_count": 34,
   "id": "15283a58",
   "metadata": {},
   "outputs": [
    {
     "data": {
      "text/plain": [
       "['https://i.redd.it/mi8d2dw3t6u91.jpg',\n",
       " 'https://i.redd.it/aqmlh6evnjz91.jpg',\n",
       " 'https://i.redd.it/uqnx4xp7grz91.jpg',\n",
       " 'https://i.redd.it/oa5ihtb6ti2a1.jpg',\n",
       " 'https://i.redd.it/ljozr55e9n3a1.jpg']"
      ]
     },
     "execution_count": 34,
     "metadata": {},
     "output_type": "execute_result"
    }
   ],
   "source": [
    "# Output memes\n",
    "desired_ids = hits[\"corpus_id\"]\n",
    "filtered_df = df.loc[df['id'].isin(desired_ids)]\n",
    "retrieved_memes = list(filtered_df[\"url\"])\n",
    "retrieved_memes"
   ]
  },
  {
   "cell_type": "code",
   "execution_count": 35,
   "id": "0baed265",
   "metadata": {},
   "outputs": [
    {
     "data": {
      "text/plain": [
       "0    5387\n",
       "1    4580\n",
       "2    2615\n",
       "3    2816\n",
       "4     479\n",
       "Name: corpus_id, dtype: int64"
      ]
     },
     "execution_count": 35,
     "metadata": {},
     "output_type": "execute_result"
    }
   ],
   "source": [
    "desired_ids"
   ]
  },
  {
   "cell_type": "code",
   "execution_count": 36,
   "id": "a8da4893",
   "metadata": {},
   "outputs": [
    {
     "data": {
      "text/html": [
       "<img src=\"https://i.redd.it/mi8d2dw3t6u91.jpg\" width=\"200\" height=\"200\"/>"
      ],
      "text/plain": [
       "<IPython.core.display.Image object>"
      ]
     },
     "metadata": {},
     "output_type": "display_data"
    },
    {
     "data": {
      "text/html": [
       "<img src=\"https://i.redd.it/aqmlh6evnjz91.jpg\" width=\"200\" height=\"200\"/>"
      ],
      "text/plain": [
       "<IPython.core.display.Image object>"
      ]
     },
     "metadata": {},
     "output_type": "display_data"
    },
    {
     "data": {
      "text/html": [
       "<img src=\"https://i.redd.it/uqnx4xp7grz91.jpg\" width=\"200\" height=\"200\"/>"
      ],
      "text/plain": [
       "<IPython.core.display.Image object>"
      ]
     },
     "metadata": {},
     "output_type": "display_data"
    },
    {
     "data": {
      "text/html": [
       "<img src=\"https://i.redd.it/oa5ihtb6ti2a1.jpg\" width=\"200\" height=\"200\"/>"
      ],
      "text/plain": [
       "<IPython.core.display.Image object>"
      ]
     },
     "metadata": {},
     "output_type": "display_data"
    },
    {
     "data": {
      "text/html": [
       "<img src=\"https://i.redd.it/ljozr55e9n3a1.jpg\" width=\"200\" height=\"200\"/>"
      ],
      "text/plain": [
       "<IPython.core.display.Image object>"
      ]
     },
     "metadata": {},
     "output_type": "display_data"
    },
    {
     "data": {
      "text/plain": [
       "[None, None, None, None, None]"
      ]
     },
     "execution_count": 36,
     "metadata": {},
     "output_type": "execute_result"
    }
   ],
   "source": [
    "from IPython.display import Image,display\n",
    "[display(Image(url=x,width=200, height=200)) for x in retrieved_memes]"
   ]
  },
  {
   "cell_type": "code",
   "execution_count": null,
   "id": "cd30830b",
   "metadata": {},
   "outputs": [],
   "source": []
  }
 ],
 "metadata": {
  "kernelspec": {
   "display_name": "Python 3 (ipykernel)",
   "language": "python",
   "name": "python3"
  },
  "language_info": {
   "codemirror_mode": {
    "name": "ipython",
    "version": 3
   },
   "file_extension": ".py",
   "mimetype": "text/x-python",
   "name": "python",
   "nbconvert_exporter": "python",
   "pygments_lexer": "ipython3",
   "version": "3.10.10"
  }
 },
 "nbformat": 4,
 "nbformat_minor": 5
}
